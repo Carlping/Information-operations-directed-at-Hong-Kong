{
 "cells": [
  {
   "cell_type": "markdown",
   "metadata": {},
   "source": [
    "### Load the required packages"
   ]
  },
  {
   "cell_type": "code",
   "execution_count": 1,
   "metadata": {},
   "outputs": [],
   "source": [
    "import pandas as pd\n",
    "import numpy as np\n",
    "import matplotlib.pyplot as plt\n",
    "%matplotlib inline\n",
    "\n",
    "import seaborn as sns\n",
    "\n",
    "import datetime as dt\n",
    "import nltk"
   ]
  },
  {
   "cell_type": "code",
   "execution_count": 2,
   "metadata": {},
   "outputs": [
    {
     "name": "stderr",
     "output_type": "stream",
     "text": [
      "C:\\Users\\k011957\\AppData\\Local\\Continuum\\anaconda3\\lib\\site-packages\\IPython\\core\\interactiveshell.py:3020: DtypeWarning: Columns (15,19,30) have mixed types. Specify dtype option on import or set low_memory=False.\n",
      "  interactivity=interactivity, compiler=compiler, result=result)\n"
     ]
    }
   ],
   "source": [
    "tweet1 = pd.read_csv(\"china_082019_1_tweets_csv_hashed.csv\")\n",
    "user1 = pd.read_csv(\"china_082019_1_users_csv_hashed.csv\")"
   ]
  },
  {
   "cell_type": "code",
   "execution_count": 3,
   "metadata": {},
   "outputs": [],
   "source": [
    "tweet2 = pd.read_csv(\"china_082019_2_tweets_csv_hashed.csv\")\n",
    "user2 = pd.read_csv(\"china_082019_2_users_csv_hashed.csv\")"
   ]
  },
  {
   "cell_type": "markdown",
   "metadata": {},
   "source": [
    "#### Users"
   ]
  },
  {
   "cell_type": "code",
   "execution_count": 4,
   "metadata": {},
   "outputs": [],
   "source": [
    "user = pd.concat([user1, user2])"
   ]
  },
  {
   "cell_type": "code",
   "execution_count": 173,
   "metadata": {},
   "outputs": [
    {
     "data": {
      "text/html": [
       "<div>\n",
       "<style scoped>\n",
       "    .dataframe tbody tr th:only-of-type {\n",
       "        vertical-align: middle;\n",
       "    }\n",
       "\n",
       "    .dataframe tbody tr th {\n",
       "        vertical-align: top;\n",
       "    }\n",
       "\n",
       "    .dataframe thead th {\n",
       "        text-align: right;\n",
       "    }\n",
       "</style>\n",
       "<table border=\"1\" class=\"dataframe\">\n",
       "  <thead>\n",
       "    <tr style=\"text-align: right;\">\n",
       "      <th></th>\n",
       "      <th>userid</th>\n",
       "      <th>user_display_name</th>\n",
       "      <th>user_screen_name</th>\n",
       "      <th>user_reported_location</th>\n",
       "      <th>user_profile_description</th>\n",
       "      <th>user_profile_url</th>\n",
       "      <th>follower_count</th>\n",
       "      <th>following_count</th>\n",
       "      <th>account_creation_date</th>\n",
       "      <th>account_language</th>\n",
       "    </tr>\n",
       "  </thead>\n",
       "  <tbody>\n",
       "    <tr>\n",
       "      <th>0</th>\n",
       "      <td>vMm2zemFOF7kmXoDyX24Bo+TorqhNutpZlATYyxsE=</td>\n",
       "      <td>vMm2zemFOF7kmXoDyX24Bo+TorqhNutpZlATYyxsE=</td>\n",
       "      <td>vMm2zemFOF7kmXoDyX24Bo+TorqhNutpZlATYyxsE=</td>\n",
       "      <td>NaN</td>\n",
       "      <td>NaN</td>\n",
       "      <td>NaN</td>\n",
       "      <td>1</td>\n",
       "      <td>52</td>\n",
       "      <td>2017-08-30</td>\n",
       "      <td>zh-cn</td>\n",
       "    </tr>\n",
       "    <tr>\n",
       "      <th>1</th>\n",
       "      <td>919755217121316864</td>\n",
       "      <td>ailaiyi5</td>\n",
       "      <td>wuming11xia</td>\n",
       "      <td>NaN</td>\n",
       "      <td>NaN</td>\n",
       "      <td>NaN</td>\n",
       "      <td>0</td>\n",
       "      <td>0</td>\n",
       "      <td>2017-10-16</td>\n",
       "      <td>zh-cn</td>\n",
       "    </tr>\n",
       "    <tr>\n",
       "      <th>2</th>\n",
       "      <td>747292706536226816</td>\n",
       "      <td>牛小牛</td>\n",
       "      <td>gurevadona88</td>\n",
       "      <td>NaN</td>\n",
       "      <td>NaN</td>\n",
       "      <td>NaN</td>\n",
       "      <td>23949</td>\n",
       "      <td>52</td>\n",
       "      <td>2016-06-27</td>\n",
       "      <td>zh-cn</td>\n",
       "    </tr>\n",
       "    <tr>\n",
       "      <th>3</th>\n",
       "      <td>q2SMGvHasu+nugbpNMDCjr2qlZp3FCiGYDLht+gW5pw=</td>\n",
       "      <td>q2SMGvHasu+nugbpNMDCjr2qlZp3FCiGYDLht+gW5pw=</td>\n",
       "      <td>q2SMGvHasu+nugbpNMDCjr2qlZp3FCiGYDLht+gW5pw=</td>\n",
       "      <td>NaN</td>\n",
       "      <td>NaN</td>\n",
       "      <td>NaN</td>\n",
       "      <td>17</td>\n",
       "      <td>34</td>\n",
       "      <td>2016-08-08</td>\n",
       "      <td>es</td>\n",
       "    </tr>\n",
       "    <tr>\n",
       "      <th>4</th>\n",
       "      <td>907348345563303940</td>\n",
       "      <td>lishuishi</td>\n",
       "      <td>lishuishi</td>\n",
       "      <td>NaN</td>\n",
       "      <td>NaN</td>\n",
       "      <td>NaN</td>\n",
       "      <td>0</td>\n",
       "      <td>0</td>\n",
       "      <td>2017-09-11</td>\n",
       "      <td>zh-tw</td>\n",
       "    </tr>\n",
       "  </tbody>\n",
       "</table>\n",
       "</div>"
      ],
      "text/plain": [
       "                                         userid  \\\n",
       "0    vMm2zemFOF7kmXoDyX24Bo+TorqhNutpZlATYyxsE=   \n",
       "1                            919755217121316864   \n",
       "2                            747292706536226816   \n",
       "3  q2SMGvHasu+nugbpNMDCjr2qlZp3FCiGYDLht+gW5pw=   \n",
       "4                            907348345563303940   \n",
       "\n",
       "                              user_display_name  \\\n",
       "0    vMm2zemFOF7kmXoDyX24Bo+TorqhNutpZlATYyxsE=   \n",
       "1                                      ailaiyi5   \n",
       "2                                           牛小牛   \n",
       "3  q2SMGvHasu+nugbpNMDCjr2qlZp3FCiGYDLht+gW5pw=   \n",
       "4                                     lishuishi   \n",
       "\n",
       "                               user_screen_name user_reported_location  \\\n",
       "0    vMm2zemFOF7kmXoDyX24Bo+TorqhNutpZlATYyxsE=                    NaN   \n",
       "1                                   wuming11xia                    NaN   \n",
       "2                                  gurevadona88                    NaN   \n",
       "3  q2SMGvHasu+nugbpNMDCjr2qlZp3FCiGYDLht+gW5pw=                    NaN   \n",
       "4                                     lishuishi                    NaN   \n",
       "\n",
       "  user_profile_description user_profile_url  follower_count  following_count  \\\n",
       "0                      NaN              NaN               1               52   \n",
       "1                      NaN              NaN               0                0   \n",
       "2                      NaN              NaN           23949               52   \n",
       "3                      NaN              NaN              17               34   \n",
       "4                      NaN              NaN               0                0   \n",
       "\n",
       "  account_creation_date account_language  \n",
       "0            2017-08-30            zh-cn  \n",
       "1            2017-10-16            zh-cn  \n",
       "2            2016-06-27            zh-cn  \n",
       "3            2016-08-08               es  \n",
       "4            2017-09-11            zh-tw  "
      ]
     },
     "execution_count": 173,
     "metadata": {},
     "output_type": "execute_result"
    }
   ],
   "source": [
    "user1.head()"
   ]
  },
  {
   "cell_type": "code",
   "execution_count": 6,
   "metadata": {},
   "outputs": [
    {
     "name": "stdout",
     "output_type": "stream",
     "text": [
      "<class 'pandas.core.frame.DataFrame'>\n",
      "Int64Index: 940 entries, 0 to 195\n",
      "Data columns (total 10 columns):\n",
      "userid                      940 non-null object\n",
      "user_display_name           940 non-null object\n",
      "user_screen_name            940 non-null object\n",
      "user_reported_location      297 non-null object\n",
      "user_profile_description    329 non-null object\n",
      "user_profile_url            59 non-null object\n",
      "follower_count              940 non-null int64\n",
      "following_count             940 non-null int64\n",
      "account_creation_date       940 non-null object\n",
      "account_language            940 non-null object\n",
      "dtypes: int64(2), object(8)\n",
      "memory usage: 80.8+ KB\n"
     ]
    }
   ],
   "source": [
    "user.info()"
   ]
  },
  {
   "cell_type": "code",
   "execution_count": 145,
   "metadata": {},
   "outputs": [
    {
     "name": "stdout",
     "output_type": "stream",
     "text": [
      "<class 'pandas.core.frame.DataFrame'>\n",
      "RangeIndex: 744 entries, 0 to 743\n",
      "Data columns (total 10 columns):\n",
      "userid                      744 non-null object\n",
      "user_display_name           744 non-null object\n",
      "user_screen_name            744 non-null object\n",
      "user_reported_location      182 non-null object\n",
      "user_profile_description    189 non-null object\n",
      "user_profile_url            14 non-null object\n",
      "follower_count              744 non-null int64\n",
      "following_count             744 non-null int64\n",
      "account_creation_date       744 non-null object\n",
      "account_language            744 non-null object\n",
      "dtypes: int64(2), object(8)\n",
      "memory usage: 58.2+ KB\n"
     ]
    }
   ],
   "source": [
    "user1.info()"
   ]
  },
  {
   "cell_type": "code",
   "execution_count": 150,
   "metadata": {},
   "outputs": [
    {
     "name": "stdout",
     "output_type": "stream",
     "text": [
      "<class 'pandas.core.frame.DataFrame'>\n",
      "RangeIndex: 196 entries, 0 to 195\n",
      "Data columns (total 10 columns):\n",
      "userid                      196 non-null object\n",
      "user_display_name           196 non-null object\n",
      "user_screen_name            196 non-null object\n",
      "user_reported_location      115 non-null object\n",
      "user_profile_description    140 non-null object\n",
      "user_profile_url            45 non-null object\n",
      "follower_count              196 non-null int64\n",
      "following_count             196 non-null int64\n",
      "account_creation_date       196 non-null object\n",
      "account_language            196 non-null object\n",
      "dtypes: int64(2), object(8)\n",
      "memory usage: 15.4+ KB\n"
     ]
    }
   ],
   "source": [
    "user2.info()"
   ]
  },
  {
   "cell_type": "code",
   "execution_count": 146,
   "metadata": {},
   "outputs": [
    {
     "data": {
      "text/plain": [
       "289"
      ]
     },
     "execution_count": 146,
     "metadata": {},
     "output_type": "execute_result"
    }
   ],
   "source": [
    "user1['account_creation_date'].nunique()\n",
    "#user['create_m'] = pd.to_datetime(user['account_creation_date']).dt.month"
   ]
  },
  {
   "cell_type": "code",
   "execution_count": 148,
   "metadata": {},
   "outputs": [
    {
     "data": {
      "text/plain": [
       "175"
      ]
     },
     "execution_count": 148,
     "metadata": {},
     "output_type": "execute_result"
    }
   ],
   "source": [
    "user2['account_creation_date'].nunique()"
   ]
  },
  {
   "cell_type": "code",
   "execution_count": 7,
   "metadata": {},
   "outputs": [
    {
     "data": {
      "text/plain": [
       "<matplotlib.axes._subplots.AxesSubplot at 0x16799b16908>"
      ]
     },
     "execution_count": 7,
     "metadata": {},
     "output_type": "execute_result"
    },
    {
     "data": {
      "image/png": "[encoded data removed]",
      "text/plain": [
       "<Figure size 432x288 with 1 Axes>"
      ]
     },
     "metadata": {
      "needs_background": "light"
     },
     "output_type": "display_data"
    }
   ],
   "source": [
    "fig = plt.figure()\n",
    "((pd.value_counts(user['account_creation_date'])[:10])/940*100).plot.bar()"
   ]
  },
  {
   "cell_type": "code",
   "execution_count": 8,
   "metadata": {},
   "outputs": [
    {
     "data": {
      "text/plain": [
       "<matplotlib.axes._subplots.AxesSubplot at 0x16799bfd6d8>"
      ]
     },
     "execution_count": 8,
     "metadata": {},
     "output_type": "execute_result"
    },
    {
     "data": {
      "image/png": "[encoded data removed]",
      "text/plain": [
       "<Figure size 432x288 with 1 Axes>"
      ]
     },
     "metadata": {
      "needs_background": "light"
     },
     "output_type": "display_data"
    }
   ],
   "source": [
    "no_location = user[user['user_reported_location'].isnull()].copy()\n",
    "fig = plt.figure()\n",
    "((pd.value_counts(no_location['account_creation_date'])[:10])/940*100).plot.bar()"
   ]
  },
  {
   "cell_type": "code",
   "execution_count": 9,
   "metadata": {},
   "outputs": [
    {
     "data": {
      "text/plain": [
       "zh-cn    612\n",
       "en       231\n",
       "ru        36\n",
       "es        18\n",
       "zh-CN     15\n",
       "zh-tw     11\n",
       "ja         8\n",
       "en-gb      5\n",
       "fr         4\n",
       "Name: account_language, dtype: int64"
      ]
     },
     "execution_count": 9,
     "metadata": {},
     "output_type": "execute_result"
    }
   ],
   "source": [
    "user['account_language'].value_counts()"
   ]
  },
  {
   "cell_type": "code",
   "execution_count": 10,
   "metadata": {},
   "outputs": [
    {
     "data": {
      "text/html": [
       "<div>\n",
       "<style scoped>\n",
       "    .dataframe tbody tr th:only-of-type {\n",
       "        vertical-align: middle;\n",
       "    }\n",
       "\n",
       "    .dataframe tbody tr th {\n",
       "        vertical-align: top;\n",
       "    }\n",
       "\n",
       "    .dataframe thead th {\n",
       "        text-align: right;\n",
       "    }\n",
       "</style>\n",
       "<table border=\"1\" class=\"dataframe\">\n",
       "  <thead>\n",
       "    <tr style=\"text-align: right;\">\n",
       "      <th></th>\n",
       "      <th>userid</th>\n",
       "      <th>user_display_name</th>\n",
       "      <th>user_screen_name</th>\n",
       "      <th>user_reported_location</th>\n",
       "      <th>user_profile_description</th>\n",
       "      <th>user_profile_url</th>\n",
       "      <th>follower_count</th>\n",
       "      <th>following_count</th>\n",
       "      <th>account_creation_date</th>\n",
       "      <th>account_language</th>\n",
       "    </tr>\n",
       "  </thead>\n",
       "  <tbody>\n",
       "  </tbody>\n",
       "</table>\n",
       "</div>"
      ],
      "text/plain": [
       "Empty DataFrame\n",
       "Columns: [userid, user_display_name, user_screen_name, user_reported_location, user_profile_description, user_profile_url, follower_count, following_count, account_creation_date, account_language]\n",
       "Index: []"
      ]
     },
     "execution_count": 10,
     "metadata": {},
     "output_type": "execute_result"
    }
   ],
   "source": [
    "user[(user['following_count'] >= 2001) & (user['follower_count'] <2000)]"
   ]
  },
  {
   "cell_type": "code",
   "execution_count": 93,
   "metadata": {},
   "outputs": [
    {
     "data": {
      "text/plain": [
       "<matplotlib.axes._subplots.AxesSubplot at 0x2182a357ef0>"
      ]
     },
     "execution_count": 93,
     "metadata": {},
     "output_type": "execute_result"
    },
    {
     "data": {
      "image/png": "[encoded data removed]",
      "text/plain": [
       "<Figure size 432x288 with 1 Axes>"
      ]
     },
     "metadata": {
      "needs_background": "light"
     },
     "output_type": "display_data"
    }
   ],
   "source": [
    "no_follow = user[(user['following_count'] == 0) & (user['follower_count'] == 0)].copy()\n",
    "fig = plt.figure()\n",
    "((pd.value_counts(no_follow['account_creation_date'])[:10])/107*100).plot.bar()"
   ]
  },
  {
   "cell_type": "code",
   "execution_count": 11,
   "metadata": {},
   "outputs": [
    {
     "data": {
      "text/plain": [
       "940"
      ]
     },
     "execution_count": 11,
     "metadata": {},
     "output_type": "execute_result"
    }
   ],
   "source": [
    "user['userid'].nunique()"
   ]
  },
  {
   "cell_type": "markdown",
   "metadata": {},
   "source": [
    "### Summary of user part:\n",
    "\n",
    "1. There are 744 unique users in the set1.\n",
    "2. 592 (79.6%) use zh-CN. ( a simplified chinese from China)\n",
    "3. There is no fake account from only following count and follwer count perspectives. Twitter has its limitiion on how many accounts you can follow, and the number is 2000. Robot-like accounts should look like following more than 2000 acounts but have very few followers. However, i don't find it here.\n",
    "4. Almost 31% accounts are created on 2017/8/18 and 2017/8/30. Should follow what happen during 2017 summer.\n",
    "5. For those who have no follower and not following any, 7/10 of the top 10 account create date are in 2017 winter."
   ]
  },
  {
   "cell_type": "markdown",
   "metadata": {},
   "source": [
    "#### Tweets~"
   ]
  },
  {
   "cell_type": "code",
   "execution_count": 139,
   "metadata": {},
   "outputs": [
    {
     "data": {
      "text/plain": [
       "Index(['tweetid', 'userid', 'user_display_name', 'user_screen_name',\n",
       "       'user_reported_location', 'user_profile_description',\n",
       "       'user_profile_url', 'follower_count', 'following_count',\n",
       "       'account_creation_date', 'account_language', 'tweet_language',\n",
       "       'tweet_text', 'tweet_time', 'tweet_client_name', 'in_reply_to_userid',\n",
       "       'in_reply_to_tweetid', 'quoted_tweet_tweetid', 'is_retweet',\n",
       "       'retweet_userid', 'retweet_tweetid', 'latitude', 'longitude',\n",
       "       'quote_count', 'reply_count', 'like_count', 'retweet_count', 'hashtags',\n",
       "       'urls', 'user_mentions', 'poll_choices'],\n",
       "      dtype='object')"
      ]
     },
     "execution_count": 139,
     "metadata": {},
     "output_type": "execute_result"
    }
   ],
   "source": [
    "tweet"
   ]
  },
  {
   "cell_type": "code",
   "execution_count": 140,
   "metadata": {},
   "outputs": [
    {
     "data": {
      "text/html": [
       "<div>\n",
       "<style scoped>\n",
       "    .dataframe tbody tr th:only-of-type {\n",
       "        vertical-align: middle;\n",
       "    }\n",
       "\n",
       "    .dataframe tbody tr th {\n",
       "        vertical-align: top;\n",
       "    }\n",
       "\n",
       "    .dataframe thead th {\n",
       "        text-align: right;\n",
       "    }\n",
       "</style>\n",
       "<table border=\"1\" class=\"dataframe\">\n",
       "  <thead>\n",
       "    <tr style=\"text-align: right;\">\n",
       "      <th></th>\n",
       "      <th>tweetid</th>\n",
       "      <th>userid</th>\n",
       "      <th>user_display_name</th>\n",
       "      <th>user_screen_name</th>\n",
       "      <th>user_reported_location</th>\n",
       "      <th>user_profile_description</th>\n",
       "      <th>user_profile_url</th>\n",
       "      <th>follower_count</th>\n",
       "      <th>following_count</th>\n",
       "      <th>account_creation_date</th>\n",
       "      <th>...</th>\n",
       "      <th>latitude</th>\n",
       "      <th>longitude</th>\n",
       "      <th>quote_count</th>\n",
       "      <th>reply_count</th>\n",
       "      <th>like_count</th>\n",
       "      <th>retweet_count</th>\n",
       "      <th>hashtags</th>\n",
       "      <th>urls</th>\n",
       "      <th>user_mentions</th>\n",
       "      <th>poll_choices</th>\n",
       "    </tr>\n",
       "  </thead>\n",
       "  <tbody>\n",
       "    <tr>\n",
       "      <th>0</th>\n",
       "      <td>436306424587890688</td>\n",
       "      <td>206027550</td>\n",
       "      <td>The Flecha</td>\n",
       "      <td>nessniven</td>\n",
       "      <td>Republic of Korea</td>\n",
       "      <td>When you see Jair Bolsonaro and his program of...</td>\n",
       "      <td>NaN</td>\n",
       "      <td>100847</td>\n",
       "      <td>31752</td>\n",
       "      <td>2010-10-22</td>\n",
       "      <td>...</td>\n",
       "      <td>absent</td>\n",
       "      <td>absent</td>\n",
       "      <td>0.0</td>\n",
       "      <td>0.0</td>\n",
       "      <td>1.0</td>\n",
       "      <td>0.0</td>\n",
       "      <td>NaN</td>\n",
       "      <td>NaN</td>\n",
       "      <td>[443196382]</td>\n",
       "      <td>NaN</td>\n",
       "    </tr>\n",
       "    <tr>\n",
       "      <th>1</th>\n",
       "      <td>582682975969624064</td>\n",
       "      <td>206027550</td>\n",
       "      <td>The Flecha</td>\n",
       "      <td>nessniven</td>\n",
       "      <td>Republic of Korea</td>\n",
       "      <td>When you see Jair Bolsonaro and his program of...</td>\n",
       "      <td>NaN</td>\n",
       "      <td>100847</td>\n",
       "      <td>31752</td>\n",
       "      <td>2010-10-22</td>\n",
       "      <td>...</td>\n",
       "      <td>absent</td>\n",
       "      <td>absent</td>\n",
       "      <td>0.0</td>\n",
       "      <td>0.0</td>\n",
       "      <td>0.0</td>\n",
       "      <td>52.0</td>\n",
       "      <td>[]</td>\n",
       "      <td>['http://goo.gl/32K38q']</td>\n",
       "      <td>[]</td>\n",
       "      <td>NaN</td>\n",
       "    </tr>\n",
       "    <tr>\n",
       "      <th>2</th>\n",
       "      <td>582997936541278208</td>\n",
       "      <td>206027550</td>\n",
       "      <td>The Flecha</td>\n",
       "      <td>nessniven</td>\n",
       "      <td>Republic of Korea</td>\n",
       "      <td>When you see Jair Bolsonaro and his program of...</td>\n",
       "      <td>NaN</td>\n",
       "      <td>100847</td>\n",
       "      <td>31752</td>\n",
       "      <td>2010-10-22</td>\n",
       "      <td>...</td>\n",
       "      <td>absent</td>\n",
       "      <td>absent</td>\n",
       "      <td>0.0</td>\n",
       "      <td>0.0</td>\n",
       "      <td>0.0</td>\n",
       "      <td>0.0</td>\n",
       "      <td>[]</td>\n",
       "      <td>[]</td>\n",
       "      <td>[116351908]</td>\n",
       "      <td>NaN</td>\n",
       "    </tr>\n",
       "    <tr>\n",
       "      <th>3</th>\n",
       "      <td>580404049901670400</td>\n",
       "      <td>206027550</td>\n",
       "      <td>The Flecha</td>\n",
       "      <td>nessniven</td>\n",
       "      <td>Republic of Korea</td>\n",
       "      <td>When you see Jair Bolsonaro and his program of...</td>\n",
       "      <td>NaN</td>\n",
       "      <td>100847</td>\n",
       "      <td>31752</td>\n",
       "      <td>2010-10-22</td>\n",
       "      <td>...</td>\n",
       "      <td>absent</td>\n",
       "      <td>absent</td>\n",
       "      <td>0.0</td>\n",
       "      <td>0.0</td>\n",
       "      <td>0.0</td>\n",
       "      <td>0.0</td>\n",
       "      <td>[]</td>\n",
       "      <td>['http://goo.gl/iC1GM9']</td>\n",
       "      <td>[]</td>\n",
       "      <td>NaN</td>\n",
       "    </tr>\n",
       "    <tr>\n",
       "      <th>4</th>\n",
       "      <td>199007241142149121</td>\n",
       "      <td>206027550</td>\n",
       "      <td>The Flecha</td>\n",
       "      <td>nessniven</td>\n",
       "      <td>Republic of Korea</td>\n",
       "      <td>When you see Jair Bolsonaro and his program of...</td>\n",
       "      <td>NaN</td>\n",
       "      <td>100847</td>\n",
       "      <td>31752</td>\n",
       "      <td>2010-10-22</td>\n",
       "      <td>...</td>\n",
       "      <td>absent</td>\n",
       "      <td>absent</td>\n",
       "      <td>0.0</td>\n",
       "      <td>0.0</td>\n",
       "      <td>0.0</td>\n",
       "      <td>0.0</td>\n",
       "      <td>NaN</td>\n",
       "      <td>['http://migre.me/8Ycqm']</td>\n",
       "      <td>NaN</td>\n",
       "      <td>NaN</td>\n",
       "    </tr>\n",
       "  </tbody>\n",
       "</table>\n",
       "<p>5 rows × 31 columns</p>\n",
       "</div>"
      ],
      "text/plain": [
       "              tweetid     userid user_display_name user_screen_name  \\\n",
       "0  436306424587890688  206027550        The Flecha        nessniven   \n",
       "1  582682975969624064  206027550        The Flecha        nessniven   \n",
       "2  582997936541278208  206027550        The Flecha        nessniven   \n",
       "3  580404049901670400  206027550        The Flecha        nessniven   \n",
       "4  199007241142149121  206027550        The Flecha        nessniven   \n",
       "\n",
       "  user_reported_location                           user_profile_description  \\\n",
       "0      Republic of Korea  When you see Jair Bolsonaro and his program of...   \n",
       "1      Republic of Korea  When you see Jair Bolsonaro and his program of...   \n",
       "2      Republic of Korea  When you see Jair Bolsonaro and his program of...   \n",
       "3      Republic of Korea  When you see Jair Bolsonaro and his program of...   \n",
       "4      Republic of Korea  When you see Jair Bolsonaro and his program of...   \n",
       "\n",
       "  user_profile_url  follower_count  following_count account_creation_date  \\\n",
       "0              NaN          100847            31752            2010-10-22   \n",
       "1              NaN          100847            31752            2010-10-22   \n",
       "2              NaN          100847            31752            2010-10-22   \n",
       "3              NaN          100847            31752            2010-10-22   \n",
       "4              NaN          100847            31752            2010-10-22   \n",
       "\n",
       "      ...      latitude longitude quote_count reply_count like_count  \\\n",
       "0     ...        absent    absent         0.0         0.0        1.0   \n",
       "1     ...        absent    absent         0.0         0.0        0.0   \n",
       "2     ...        absent    absent         0.0         0.0        0.0   \n",
       "3     ...        absent    absent         0.0         0.0        0.0   \n",
       "4     ...        absent    absent         0.0         0.0        0.0   \n",
       "\n",
       "  retweet_count  hashtags                       urls  user_mentions  \\\n",
       "0           0.0       NaN                        NaN    [443196382]   \n",
       "1          52.0        []   ['http://goo.gl/32K38q']             []   \n",
       "2           0.0        []                         []    [116351908]   \n",
       "3           0.0        []   ['http://goo.gl/iC1GM9']             []   \n",
       "4           0.0       NaN  ['http://migre.me/8Ycqm']            NaN   \n",
       "\n",
       "  poll_choices  \n",
       "0          NaN  \n",
       "1          NaN  \n",
       "2          NaN  \n",
       "3          NaN  \n",
       "4          NaN  \n",
       "\n",
       "[5 rows x 31 columns]"
      ]
     },
     "execution_count": 140,
     "metadata": {},
     "output_type": "execute_result"
    }
   ],
   "source": [
    "tweet.head()"
   ]
  },
  {
   "cell_type": "code",
   "execution_count": 141,
   "metadata": {},
   "outputs": [
    {
     "data": {
      "text/html": [
       "<div>\n",
       "<style scoped>\n",
       "    .dataframe tbody tr th:only-of-type {\n",
       "        vertical-align: middle;\n",
       "    }\n",
       "\n",
       "    .dataframe tbody tr th {\n",
       "        vertical-align: top;\n",
       "    }\n",
       "\n",
       "    .dataframe thead th {\n",
       "        text-align: right;\n",
       "    }\n",
       "</style>\n",
       "<table border=\"1\" class=\"dataframe\">\n",
       "  <thead>\n",
       "    <tr style=\"text-align: right;\">\n",
       "      <th></th>\n",
       "      <th>tweetid</th>\n",
       "      <th>follower_count</th>\n",
       "      <th>following_count</th>\n",
       "      <th>in_reply_to_tweetid</th>\n",
       "      <th>quoted_tweet_tweetid</th>\n",
       "      <th>retweet_tweetid</th>\n",
       "      <th>quote_count</th>\n",
       "      <th>reply_count</th>\n",
       "      <th>like_count</th>\n",
       "      <th>retweet_count</th>\n",
       "    </tr>\n",
       "  </thead>\n",
       "  <tbody>\n",
       "    <tr>\n",
       "      <th>count</th>\n",
       "      <td>1.906831e+06</td>\n",
       "      <td>1.906831e+06</td>\n",
       "      <td>1.906831e+06</td>\n",
       "      <td>1.785020e+05</td>\n",
       "      <td>9.513300e+04</td>\n",
       "      <td>3.579360e+05</td>\n",
       "      <td>1.888906e+06</td>\n",
       "      <td>1.888906e+06</td>\n",
       "      <td>1.888906e+06</td>\n",
       "      <td>1.888906e+06</td>\n",
       "    </tr>\n",
       "    <tr>\n",
       "      <th>mean</th>\n",
       "      <td>7.206899e+17</td>\n",
       "      <td>2.444543e+04</td>\n",
       "      <td>1.350040e+04</td>\n",
       "      <td>5.869991e+17</td>\n",
       "      <td>8.621642e+17</td>\n",
       "      <td>6.013256e+17</td>\n",
       "      <td>7.288346e-03</td>\n",
       "      <td>8.859573e-02</td>\n",
       "      <td>4.557506e-02</td>\n",
       "      <td>1.496379e-01</td>\n",
       "    </tr>\n",
       "    <tr>\n",
       "      <th>std</th>\n",
       "      <td>2.729179e+17</td>\n",
       "      <td>2.948863e+04</td>\n",
       "      <td>9.531729e+03</td>\n",
       "      <td>3.471806e+17</td>\n",
       "      <td>8.568681e+16</td>\n",
       "      <td>2.745685e+17</td>\n",
       "      <td>4.159671e-01</td>\n",
       "      <td>9.644296e-01</td>\n",
       "      <td>1.644062e+00</td>\n",
       "      <td>3.454932e+00</td>\n",
       "    </tr>\n",
       "    <tr>\n",
       "      <th>min</th>\n",
       "      <td>8.126727e+08</td>\n",
       "      <td>0.000000e+00</td>\n",
       "      <td>0.000000e+00</td>\n",
       "      <td>8.237374e+08</td>\n",
       "      <td>1.847925e+15</td>\n",
       "      <td>1.792600e+04</td>\n",
       "      <td>0.000000e+00</td>\n",
       "      <td>0.000000e+00</td>\n",
       "      <td>0.000000e+00</td>\n",
       "      <td>0.000000e+00</td>\n",
       "    </tr>\n",
       "    <tr>\n",
       "      <th>25%</th>\n",
       "      <td>5.789587e+17</td>\n",
       "      <td>1.089500e+04</td>\n",
       "      <td>9.050000e+03</td>\n",
       "      <td>2.715412e+17</td>\n",
       "      <td>8.376187e+17</td>\n",
       "      <td>4.314172e+17</td>\n",
       "      <td>0.000000e+00</td>\n",
       "      <td>0.000000e+00</td>\n",
       "      <td>0.000000e+00</td>\n",
       "      <td>0.000000e+00</td>\n",
       "    </tr>\n",
       "    <tr>\n",
       "      <th>50%</th>\n",
       "      <td>8.170222e+17</td>\n",
       "      <td>1.355300e+04</td>\n",
       "      <td>1.359200e+04</td>\n",
       "      <td>6.053735e+17</td>\n",
       "      <td>8.417812e+17</td>\n",
       "      <td>5.771102e+17</td>\n",
       "      <td>0.000000e+00</td>\n",
       "      <td>0.000000e+00</td>\n",
       "      <td>0.000000e+00</td>\n",
       "      <td>0.000000e+00</td>\n",
       "    </tr>\n",
       "    <tr>\n",
       "      <th>75%</th>\n",
       "      <td>8.716381e+17</td>\n",
       "      <td>1.890000e+04</td>\n",
       "      <td>1.460600e+04</td>\n",
       "      <td>9.028863e+17</td>\n",
       "      <td>8.525281e+17</td>\n",
       "      <td>8.528084e+17</td>\n",
       "      <td>0.000000e+00</td>\n",
       "      <td>0.000000e+00</td>\n",
       "      <td>0.000000e+00</td>\n",
       "      <td>0.000000e+00</td>\n",
       "    </tr>\n",
       "    <tr>\n",
       "      <th>max</th>\n",
       "      <td>1.154216e+18</td>\n",
       "      <td>1.701550e+05</td>\n",
       "      <td>3.175200e+04</td>\n",
       "      <td>1.153504e+18</td>\n",
       "      <td>1.154193e+18</td>\n",
       "      <td>1.154179e+18</td>\n",
       "      <td>1.930000e+02</td>\n",
       "      <td>3.260000e+02</td>\n",
       "      <td>1.159000e+03</td>\n",
       "      <td>3.344000e+03</td>\n",
       "    </tr>\n",
       "  </tbody>\n",
       "</table>\n",
       "</div>"
      ],
      "text/plain": [
       "            tweetid  follower_count  following_count  in_reply_to_tweetid  \\\n",
       "count  1.906831e+06    1.906831e+06     1.906831e+06         1.785020e+05   \n",
       "mean   7.206899e+17    2.444543e+04     1.350040e+04         5.869991e+17   \n",
       "std    2.729179e+17    2.948863e+04     9.531729e+03         3.471806e+17   \n",
       "min    8.126727e+08    0.000000e+00     0.000000e+00         8.237374e+08   \n",
       "25%    5.789587e+17    1.089500e+04     9.050000e+03         2.715412e+17   \n",
       "50%    8.170222e+17    1.355300e+04     1.359200e+04         6.053735e+17   \n",
       "75%    8.716381e+17    1.890000e+04     1.460600e+04         9.028863e+17   \n",
       "max    1.154216e+18    1.701550e+05     3.175200e+04         1.153504e+18   \n",
       "\n",
       "       quoted_tweet_tweetid  retweet_tweetid   quote_count   reply_count  \\\n",
       "count          9.513300e+04     3.579360e+05  1.888906e+06  1.888906e+06   \n",
       "mean           8.621642e+17     6.013256e+17  7.288346e-03  8.859573e-02   \n",
       "std            8.568681e+16     2.745685e+17  4.159671e-01  9.644296e-01   \n",
       "min            1.847925e+15     1.792600e+04  0.000000e+00  0.000000e+00   \n",
       "25%            8.376187e+17     4.314172e+17  0.000000e+00  0.000000e+00   \n",
       "50%            8.417812e+17     5.771102e+17  0.000000e+00  0.000000e+00   \n",
       "75%            8.525281e+17     8.528084e+17  0.000000e+00  0.000000e+00   \n",
       "max            1.154193e+18     1.154179e+18  1.930000e+02  3.260000e+02   \n",
       "\n",
       "         like_count  retweet_count  \n",
       "count  1.888906e+06   1.888906e+06  \n",
       "mean   4.557506e-02   1.496379e-01  \n",
       "std    1.644062e+00   3.454932e+00  \n",
       "min    0.000000e+00   0.000000e+00  \n",
       "25%    0.000000e+00   0.000000e+00  \n",
       "50%    0.000000e+00   0.000000e+00  \n",
       "75%    0.000000e+00   0.000000e+00  \n",
       "max    1.159000e+03   3.344000e+03  "
      ]
     },
     "execution_count": 141,
     "metadata": {},
     "output_type": "execute_result"
    }
   ],
   "source": [
    "tweet.describe()"
   ]
  },
  {
   "cell_type": "code",
   "execution_count": 151,
   "metadata": {},
   "outputs": [
    {
     "name": "stdout",
     "output_type": "stream",
     "text": [
      "<class 'pandas.core.frame.DataFrame'>\n",
      "RangeIndex: 1906831 entries, 0 to 1906830\n",
      "Data columns (total 31 columns):\n",
      "tweetid                     int64\n",
      "userid                      object\n",
      "user_display_name           object\n",
      "user_screen_name            object\n",
      "user_reported_location      object\n",
      "user_profile_description    object\n",
      "user_profile_url            object\n",
      "follower_count              int64\n",
      "following_count             int64\n",
      "account_creation_date       object\n",
      "account_language            object\n",
      "tweet_language              object\n",
      "tweet_text                  object\n",
      "tweet_time                  object\n",
      "tweet_client_name           object\n",
      "in_reply_to_userid          object\n",
      "in_reply_to_tweetid         float64\n",
      "quoted_tweet_tweetid        float64\n",
      "is_retweet                  bool\n",
      "retweet_userid              object\n",
      "retweet_tweetid             float64\n",
      "latitude                    object\n",
      "longitude                   object\n",
      "quote_count                 float64\n",
      "reply_count                 float64\n",
      "like_count                  float64\n",
      "retweet_count               float64\n",
      "hashtags                    object\n",
      "urls                        object\n",
      "user_mentions               object\n",
      "poll_choices                object\n",
      "dtypes: bool(1), float64(7), int64(3), object(20)\n",
      "memory usage: 438.3+ MB\n"
     ]
    }
   ],
   "source": [
    "tweet1.info()"
   ]
  },
  {
   "cell_type": "code",
   "execution_count": 153,
   "metadata": {},
   "outputs": [
    {
     "name": "stdout",
     "output_type": "stream",
     "text": [
      "<class 'pandas.core.frame.DataFrame'>\n",
      "RangeIndex: 1708078 entries, 0 to 1708077\n",
      "Data columns (total 31 columns):\n",
      "tweetid                     int64\n",
      "userid                      object\n",
      "user_display_name           object\n",
      "user_screen_name            object\n",
      "user_reported_location      object\n",
      "user_profile_description    object\n",
      "user_profile_url            object\n",
      "follower_count              int64\n",
      "following_count             int64\n",
      "account_creation_date       object\n",
      "account_language            object\n",
      "tweet_language              object\n",
      "tweet_text                  object\n",
      "tweet_time                  object\n",
      "tweet_client_name           object\n",
      "in_reply_to_userid          object\n",
      "in_reply_to_tweetid         float64\n",
      "quoted_tweet_tweetid        float64\n",
      "is_retweet                  bool\n",
      "retweet_userid              object\n",
      "retweet_tweetid             float64\n",
      "latitude                    object\n",
      "longitude                   object\n",
      "quote_count                 float64\n",
      "reply_count                 float64\n",
      "like_count                  float64\n",
      "retweet_count               float64\n",
      "hashtags                    object\n",
      "urls                        object\n",
      "user_mentions               object\n",
      "poll_choices                object\n",
      "dtypes: bool(1), float64(7), int64(3), object(20)\n",
      "memory usage: 392.6+ MB\n"
     ]
    }
   ],
   "source": [
    "tweet2.info()"
   ]
  },
  {
   "cell_type": "code",
   "execution_count": 16,
   "metadata": {},
   "outputs": [],
   "source": [
    "tweet = pd.concat([tweet1, tweet2])"
   ]
  },
  {
   "cell_type": "code",
   "execution_count": 161,
   "metadata": {},
   "outputs": [],
   "source": [
    "tweet_agg = pd.DataFrame(tweet.pivot_table(values = ['tweetid'] ,index=['userid'], columns=['account_creation_date'], aggfunc=len, margins = True ))"
   ]
  },
  {
   "cell_type": "code",
   "execution_count": 164,
   "metadata": {},
   "outputs": [
    {
     "data": {
      "text/plain": [
       "MultiIndex(levels=[['tweetid'], ['2007-12-23', '2008-03-08', '2008-04-30', '2008-05-16', '2008-05-21', '2008-05-26', '2008-07-31', '2008-08-30', '2008-09-14', '2008-09-16', '2008-09-24', '2008-10-06', '2008-10-25', '2008-11-19', '2008-12-15', '2008-12-24', '2008-12-25', '2008-12-31', '2009-01-08', '2009-01-28', '2009-01-29', '2009-02-03', '2009-02-17', '2009-02-26', '2009-02-27', '2009-03-26', '2009-03-31', '2009-04-01', '2009-04-02', '2009-04-09', '2009-04-16', '2009-04-17', '2009-04-18', '2009-04-19', '2009-04-22', '2009-04-23', '2009-04-28', '2009-04-29', '2009-05-02', '2009-05-03', '2009-05-08', '2009-05-10', '2009-05-17', '2009-05-19', '2009-05-29', '2009-06-02', '2009-06-03', '2009-06-05', '2009-06-12', '2009-06-17', '2009-06-19', '2009-07-02', '2009-07-03', '2009-07-05', '2009-07-10', '2009-07-20', '2009-07-27', '2009-07-28', '2009-08-06', '2009-08-07', '2009-08-11', '2009-08-13', '2009-08-16', '2009-08-26', '2009-09-07', '2009-09-10', '2009-09-11', '2009-09-12', '2009-09-13', '2009-09-19', '2009-09-21', '2009-09-27', '2009-09-30', '2009-10-05', '2009-10-09', '2009-10-14', '2009-10-15', '2009-11-03', '2009-11-04', '2009-11-20', '2009-11-21', '2009-12-14', '2009-12-15', '2009-12-17', '2010-01-11', '2010-01-18', '2010-02-04', '2010-02-07', '2010-02-15', '2010-02-24', '2010-03-12', '2010-03-23', '2010-03-28', '2010-04-06', '2010-04-13', '2010-04-26', '2010-05-07', '2010-05-08', '2010-06-01', '2010-06-02', '2010-06-18', '2010-06-19', '2010-06-21', '2010-08-16', '2010-09-08', '2010-09-11', '2010-09-12', '2010-10-13', '2010-10-19', '2010-10-22', '2010-11-04', '2010-11-09', '2010-12-03', '2010-12-28', '2011-01-25', '2011-01-27', '2011-02-05', '2011-02-20', '2011-02-22', '2011-03-04', '2011-03-07', '2011-03-16', '2011-03-22', '2011-03-25', '2011-04-23', '2011-04-29', '2011-05-19', '2011-05-25', '2011-06-19', '2011-06-27', '2011-06-28', '2011-06-29', '2011-07-02', '2011-07-06', '2011-07-10', '2011-07-20', '2011-07-27', '2011-08-08', '2011-08-09', '2011-08-10', '2011-08-22', '2011-08-23', '2011-08-27', '2011-08-28', '2011-09-16', '2011-09-18', '2011-09-19', '2011-09-24', '2011-09-25', '2011-10-22', '2011-10-27', '2011-11-04', '2011-11-06', '2011-11-08', '2011-11-09', '2011-11-11', '2011-11-14', '2011-11-20', '2011-11-27', '2011-12-07', '2011-12-08', '2011-12-15', '2012-01-05', '2012-01-11', '2012-01-13', '2012-02-07', '2012-02-26', '2012-02-27', '2012-03-03', '2012-03-23', '2012-03-25', '2012-03-26', '2012-04-06', '2012-04-16', '2012-05-20', '2012-05-29', '2012-06-04', '2012-06-08', '2012-06-28', '2012-07-02', '2012-08-29', '2012-09-06', '2012-11-02', '2012-11-04', '2012-11-12', '2012-11-20', '2012-12-12', '2012-12-14', '2013-01-06', '2013-01-12', '2013-01-21', '2013-01-28', '2013-02-17', '2013-02-18', '2013-02-26', '2013-03-02', '2013-03-06', '2013-03-15', '2013-03-18', '2013-03-24', '2013-03-25', '2013-03-28', '2013-03-29', '2013-04-20', '2013-05-22', '2013-05-23', '2013-05-24', '2013-05-30', '2013-06-01', '2013-06-19', '2013-07-05', '2013-07-23', '2013-07-29', '2013-08-28', '2013-09-21', '2013-09-28', '2013-10-15', '2013-10-26', '2013-10-28', '2013-11-02', '2013-11-16', '2013-11-17', '2013-11-20', '2013-12-04', '2013-12-10', '2014-01-02', '2014-02-05', '2014-02-16', '2014-03-10', '2014-03-12', '2014-03-30', '2014-04-21', '2014-05-07', '2014-05-16', '2014-05-23', '2014-05-27', '2014-06-05', '2014-07-29', '2014-08-03', '2014-08-07', '2014-08-09', '2014-08-31', '2014-10-07', '2014-10-12', '2014-11-19', '2014-11-29', '2015-01-08', '2015-01-21', '2015-01-22', '2015-01-26', '2015-02-02', '2015-02-08', '2015-02-28', '2015-03-13', '2015-03-22', '2015-04-16', '2015-04-22', '2015-05-05', '2015-06-19', '2015-06-28', '2015-07-03', '2015-07-21', '2015-07-22', '2015-07-23', '2015-09-21', '2015-09-27', '2015-10-04', '2015-10-11', '2015-10-16', '2015-10-20', '2015-10-29', '2015-11-05', '2015-11-09', '2015-11-15', '2015-11-17', '2015-11-22', '2015-11-27', '2015-11-29', '2015-11-30', '2015-12-15', '2015-12-24', '2015-12-25', '2016-01-01', '2016-01-06', '2016-01-10', '2016-01-13', '2016-01-14', '2016-01-18', '2016-01-24', '2016-02-08', '2016-02-14', '2016-04-09', '2016-04-15', '2016-05-22', '2016-06-10', '2016-06-22', '2016-06-23', '2016-06-24', '2016-06-25', '2016-06-26', '2016-06-27', '2016-06-28', '2016-07-07', '2016-07-16', '2016-07-22', '2016-07-30', '2016-08-03', '2016-08-04', '2016-08-08', '2016-08-28', '2016-09-21', '2016-10-08', '2016-10-18', '2016-10-24', '2016-10-25', '2016-11-07', '2017-01-29', '2017-02-07', '2017-02-13', '2017-06-03', '2017-06-17', '2017-06-21', '2017-07-11', '2017-07-12', '2017-07-17', '2017-07-20', '2017-07-23', '2017-07-27', '2017-07-28', '2017-08-02', '2017-08-03', '2017-08-10', '2017-08-16', '2017-08-17', '2017-08-18', '2017-08-19', '2017-08-27', '2017-08-29', '2017-08-30', '2017-08-31', '2017-09-13', '2017-09-14', '2017-09-15', '2017-09-17', '2017-09-18', '2017-09-19', '2017-09-20', '2017-09-21', '2017-09-23', '2017-09-24', '2017-09-25', '2017-09-27', '2017-09-28', '2017-10-03', '2017-10-04', '2017-10-06', '2017-10-08', '2017-10-09', '2017-10-10', '2017-10-11', '2017-10-12', '2017-10-13', '2017-10-14', '2017-10-16', '2017-10-17', '2017-10-18', '2017-10-19', '2017-10-24', '2017-10-26', '2017-10-28', '2017-10-29', '2017-10-31', '2017-11-01', '2017-11-02', '2017-11-03', '2017-11-04', '2017-11-05', '2017-11-06', '2017-11-08', '2017-11-09', '2017-11-10', '2017-11-11', '2017-11-13', '2017-11-14', '2017-11-15', '2017-12-04', '2017-12-11', '2017-12-24', '2018-01-17', '2018-01-23', '2018-02-11', '2018-02-23', '2018-03-26', '2018-03-29', '2018-03-30', '2018-04-08', '2018-04-10', '2018-07-07', '2018-07-13', '2018-08-22', '2018-10-10', '2018-10-25', '2018-10-31', '2018-11-06', '2018-11-15', '2018-12-08', '2018-12-09', '2018-12-10', '2018-12-11', '2018-12-20', '2019-01-04', '2019-01-10', '2019-01-12', '2019-01-17', '2019-01-25', '2019-01-29', '2019-02-22', '2019-02-27', '2019-03-18', '2019-03-26', '2019-04-06', '2019-04-27', '2019-04-28', '2019-04-29', '2019-05-03', '2019-05-05', '2019-05-07', 'All']],\n",
       "           labels=[[0, 0, 0, 0, 0, 0, 0, 0, 0, 0, 0, 0, 0, 0, 0, 0, 0, 0, 0, 0, 0, 0, 0, 0, 0, 0, 0, 0, 0, 0, 0, 0, 0, 0, 0, 0, 0, 0, 0, 0, 0, 0, 0, 0, 0, 0, 0, 0, 0, 0, 0, 0, 0, 0, 0, 0, 0, 0, 0, 0, 0, 0, 0, 0, 0, 0, 0, 0, 0, 0, 0, 0, 0, 0, 0, 0, 0, 0, 0, 0, 0, 0, 0, 0, 0, 0, 0, 0, 0, 0, 0, 0, 0, 0, 0, 0, 0, 0, 0, 0, 0, 0, 0, 0, 0, 0, 0, 0, 0, 0, 0, 0, 0, 0, 0, 0, 0, 0, 0, 0, 0, 0, 0, 0, 0, 0, 0, 0, 0, 0, 0, 0, 0, 0, 0, 0, 0, 0, 0, 0, 0, 0, 0, 0, 0, 0, 0, 0, 0, 0, 0, 0, 0, 0, 0, 0, 0, 0, 0, 0, 0, 0, 0, 0, 0, 0, 0, 0, 0, 0, 0, 0, 0, 0, 0, 0, 0, 0, 0, 0, 0, 0, 0, 0, 0, 0, 0, 0, 0, 0, 0, 0, 0, 0, 0, 0, 0, 0, 0, 0, 0, 0, 0, 0, 0, 0, 0, 0, 0, 0, 0, 0, 0, 0, 0, 0, 0, 0, 0, 0, 0, 0, 0, 0, 0, 0, 0, 0, 0, 0, 0, 0, 0, 0, 0, 0, 0, 0, 0, 0, 0, 0, 0, 0, 0, 0, 0, 0, 0, 0, 0, 0, 0, 0, 0, 0, 0, 0, 0, 0, 0, 0, 0, 0, 0, 0, 0, 0, 0, 0, 0, 0, 0, 0, 0, 0, 0, 0, 0, 0, 0, 0, 0, 0, 0, 0, 0, 0, 0, 0, 0, 0, 0, 0, 0, 0, 0, 0, 0, 0, 0, 0, 0, 0, 0, 0, 0, 0, 0, 0, 0, 0, 0, 0, 0, 0, 0, 0, 0, 0, 0, 0, 0, 0, 0, 0, 0, 0, 0, 0, 0, 0, 0, 0, 0, 0, 0, 0, 0, 0, 0, 0, 0, 0, 0, 0, 0, 0, 0, 0, 0, 0, 0, 0, 0, 0, 0, 0, 0, 0, 0, 0, 0, 0, 0, 0, 0, 0, 0, 0, 0, 0, 0, 0, 0, 0, 0, 0, 0, 0, 0, 0, 0, 0, 0, 0, 0, 0, 0, 0, 0, 0, 0, 0, 0, 0, 0, 0, 0, 0, 0, 0, 0, 0, 0, 0, 0, 0, 0, 0, 0, 0, 0, 0, 0, 0, 0, 0, 0, 0, 0, 0, 0, 0, 0, 0, 0, 0], [0, 1, 2, 3, 4, 5, 6, 7, 8, 9, 10, 11, 12, 13, 14, 15, 16, 17, 18, 19, 20, 21, 22, 23, 24, 25, 26, 27, 28, 29, 30, 31, 32, 33, 34, 35, 36, 37, 38, 39, 40, 41, 42, 43, 44, 45, 46, 47, 48, 49, 50, 51, 52, 53, 54, 55, 56, 57, 58, 59, 60, 61, 62, 63, 64, 65, 66, 67, 68, 69, 70, 71, 72, 73, 74, 75, 76, 77, 78, 79, 80, 81, 82, 83, 84, 85, 86, 87, 88, 89, 90, 91, 92, 93, 94, 95, 96, 97, 98, 99, 100, 101, 102, 103, 104, 105, 106, 107, 108, 109, 110, 111, 112, 113, 114, 115, 116, 117, 118, 119, 120, 121, 122, 123, 124, 125, 126, 127, 128, 129, 130, 131, 132, 133, 134, 135, 136, 137, 138, 139, 140, 141, 142, 143, 144, 145, 146, 147, 148, 149, 150, 151, 152, 153, 154, 155, 156, 157, 158, 159, 160, 161, 162, 163, 164, 165, 166, 167, 168, 169, 170, 171, 172, 173, 174, 175, 176, 177, 178, 179, 180, 181, 182, 183, 184, 185, 186, 187, 188, 189, 190, 191, 192, 193, 194, 195, 196, 197, 198, 199, 200, 201, 202, 203, 204, 205, 206, 207, 208, 209, 210, 211, 212, 213, 214, 215, 216, 217, 218, 219, 220, 221, 222, 223, 224, 225, 226, 227, 228, 229, 230, 231, 232, 233, 234, 235, 236, 237, 238, 239, 240, 241, 242, 243, 244, 245, 246, 247, 248, 249, 250, 251, 252, 253, 254, 255, 256, 257, 258, 259, 260, 261, 262, 263, 264, 265, 266, 267, 268, 269, 270, 271, 272, 273, 274, 275, 276, 277, 278, 279, 280, 281, 282, 283, 284, 285, 286, 287, 288, 289, 290, 291, 292, 293, 294, 295, 296, 297, 298, 299, 300, 301, 302, 303, 304, 305, 306, 307, 308, 309, 310, 311, 312, 313, 314, 315, 316, 317, 318, 319, 320, 321, 322, 323, 324, 325, 326, 327, 328, 329, 330, 331, 332, 333, 334, 335, 336, 337, 338, 339, 340, 341, 342, 343, 344, 345, 346, 347, 348, 349, 350, 351, 352, 353, 354, 355, 356, 357, 358, 359, 360, 361, 362, 363, 364, 365, 366, 367, 368, 369, 370, 371, 372, 373, 374, 375, 376, 377, 378, 379, 380, 381, 382, 383, 384, 385, 386, 387, 388, 389, 390, 391, 392, 393, 394, 395, 396, 397, 398, 399, 400, 401, 402, 403, 404, 405, 406, 407, 408, 409, 410, 411, 412, 413, 414, 415, 416, 417, 418, 419, 420, 421, 422, 423, 424, 425, 426, 427]],\n",
       "           names=[None, 'account_creation_date'])"
      ]
     },
     "execution_count": 164,
     "metadata": {},
     "output_type": "execute_result"
    }
   ],
   "source": [
    "tweet_agg.columns"
   ]
  },
  {
   "cell_type": "code",
   "execution_count": 12,
   "metadata": {},
   "outputs": [
    {
     "data": {
      "text/plain": [
       "[]                                          609974\n",
       "['عاشق_الليل']                               17665\n",
       "['FF']                                       16152\n",
       "['整点报时']                                      5917\n",
       "['عاشق']                                      4438\n",
       "['#tech', '#gadgets']                         3848\n",
       "['luvsujunet']                                3522\n",
       "['tech', 'gadgets']                           3376\n",
       "['gadgets']                                   3213\n",
       "['UP']                                        2684\n",
       "['#gadgets']                                  2241\n",
       "['TopNewFollowers']                           1909\n",
       "['ماهر_الملالحة']                             1860\n",
       "['#UTribe']                                   1842\n",
       "['tech']                                      1626\n",
       "['حساب_يستحق_المتابعه', 'FF']                 1554\n",
       "['up']                                        1553\n",
       "['#parenting', '#news']                       1514\n",
       "['#tech']                                     1477\n",
       "['quotes']                                    1258\n",
       "['job', 'jobs', 'hiring', 'IT', 'ITJob']      1206\n",
       "['كتابات_منيرة']                              1104\n",
       "['#westchester']                              1088\n",
       "['خاطره']                                      960\n",
       "['JeydonLopez']                                949\n",
       "['جميلة_المساء']                               938\n",
       "['InstantFollowBack']                          927\n",
       "['Follow']                                     922\n",
       "['AutoFollowMeNow']                            912\n",
       "['TeamFollowWack']                             912\n",
       "Name: hashtags, dtype: int64"
      ]
     },
     "execution_count": 12,
     "metadata": {},
     "output_type": "execute_result"
    }
   ],
   "source": [
    "tweet2['hashtags'].value_counts().sort_values(ascending=False)[:30]"
   ]
  },
  {
   "cell_type": "code",
   "execution_count": 53,
   "metadata": {},
   "outputs": [],
   "source": [
    "hk = tweet[tweet['tweet_text'].str.contains('香港')][['userid','tweet_text', 'tweet_time']].sort_values(by = ['tweet_time'], ascending = False)"
   ]
  },
  {
   "cell_type": "code",
   "execution_count": 51,
   "metadata": {},
   "outputs": [
    {
     "data": {
      "text/plain": [
       "469764     在當今互聯網時代，任何一個事物不夠完善的方面要想不被別有用心的人惡意中傷和利用關鍵之路同樣取...\n",
       "469916     昨天晚上，我看到了这个文贵的“独家爆料”，面对镜头的矫情，立即让我心生厌恶，一看这个人的谈吐...\n",
       "483464     @shaojiahui1 @coa_ben @KwokMiles 郭文贵 无耻之徒 是个彻头...\n",
       "506027        “通俄门”调查升温，特朗普呼吁“做点什么！” https://t.co/DuV2ZIg1DI\n",
       "506028                                不管人生如何，对未来都不能失去希望，从容前行\n",
       "506029     知情人士透露，早在前往河北任政法委书记之前，张越经人介绍与郭文贵相识，后又经郭文贵结交权贵，...\n",
       "506030     章立凡认为，有关报道未必可以达到反击郭文贵的目的。体制内对郭文贵的问题，可能有派系上的博奕，...\n",
       "506031     黎棟國稱內地當局昨日沒提出對林榮基實施強制措施要求\\nhttps://t.co/mTUQHo...\n",
       "517432        郭文贵到处黑别人，殊不知自己才是那个最黑的人 https://t.co/CFqBNivDnu\n",
       "517433     北京方面使用了新华社和中央电视台官方媒体，表明打击郭氏的运动加紧了。 “这明显地体现领导人对...\n",
       "517434     郭文贵作恶多端，一心寻求在美政庇。当共和党上台，郭拿出其看家伎俩，希望拿到政要的小辫子，要挟...\n",
       "537563     More carefully to listen to others how to say,...\n",
       "539049     现涉嫌犯罪被刑拘，闻者哗然，个人认为律师最基本的品质就是诚实，任全牛违背了律师最基本的职业操...\n",
       "539050     一些女粉丝对郭文贵花痴。不少女粉丝天天过来顶和回郭文贵的推文，这些女粉丝同样头脑迷糊，被郭文...\n",
       "541916                               https://t.co/vsxSTunkuO\n",
       "545090     郭文贵必将难逃“夏三虫”的命运，在秋天到来之际，经过最后的叫嚣与哀鸣之后，成为历史的垃圾。 ...\n",
       "545091     而郭文贵捕获权力的手段，除了巨额行贿之外，其惯用的就是窃听和录音，以掌握官员的隐私或者违法行...\n",
       "546061     而在寧波市被監視居留期間，按其要求，日日有水果，天天可看書，並有專人理髮服務。更有甚者，這個...\n",
       "550349     看完全程，觉得还不如去看娱乐直播解说，起码人家还能变着法子来取悦观众，文贵现如今，除了牵强附...\n",
       "553351           Hate someone else is a big loss to yourself\n",
       "553408               文贵，开始大家还以为你有受迫害幻想症，原来你从头到尾都是在编造谎言，胡说八道。\n",
       "553409     谎言四：“我是佛教徒，一定会得到报应的。”\\n郭文贵自称“佛教徒”，结果没过多久，他穿上穆斯...\n",
       "556506           郭骗骗的造谣套路：谷歌搜索+小说情节+意淫编造，智商是硬伤啊，缺钙得补，缺智商得回炉。\n",
       "559943     郭文贵农行骗贷32亿内幕：项俊波支持 九成负债被抹\\nhttps://t.co/LE7UGO...\n",
       "564881     郭文贵在youtube上发布了一段录音，从录音内容来看，与其谈话的人正全力说服郭文贵，想让郭...\n",
       "566301              大家认真想想吧，郭为何继续挺马建和张越？个中奥妙就是郭的睾丸还是被捏在国安手里。\n",
       "566302     郭文贵就是一个性格扭曲、寡廉鲜耻、卑鄙下流的人，从人格来讲，没有诚信可言，为了他自身的利益和...\n",
       "568318     8月2日11时许，天津二中院依法对翟岩民颠覆国家政权案进行一审宣判，认定被告人翟岩民犯颠覆国...\n",
       "568346                               https://t.co/kneemFj1Xx\n",
       "568347     从国内扬言起诉郭文贵的富商的举动看，都太欠专业。我不学法律，也能看出。例如，到法院申请临时禁...\n",
       "                                 ...                        \n",
       "1877024    一名24岁的女助理被拘系，令人叹息。但进而认为24岁的女生必定不会做出风险国度平安的行为，法...\n",
       "1878270    美联社报道郭文贵强奸案的重要性在于，西方政客会敬而远之，西方媒体不再惧怕而会大胆报道真相。这...\n",
       "1878271    北京方面使用了新华社和中央电视台官方媒体，表明打击郭氏的运动加紧了。 “这明显地体现领导人对...\n",
       "1879156    拜金主义，这里不排除个别“民运”人士因为郭文贵的money ，在做游说美国政界的尝试，这究竟...\n",
       "1879157    美国之音为啥突然停播?肯定是中国政府有证据证明: 1. 郭文贵有重大犯罪行为. 2.郭文贵撒...\n",
       "1880269    一个人撒个谎并不难，难得是一辈子不说真话就说假话，一贯坑害群众，一贯侮辱妇女，一贯欠债不还，...\n",
       "1881531    Everyone wants to know life and cherish life. ...\n",
       "1883497    “我就是郭文贵的傀儡。”对于为何在向农业银行的贷款合同上签字，时任盘古公司法人代表杨克森在接...\n",
       "1885346    今天看懂了董克文律师记者会，感觉是有组织的批郭大会，背后系亲共侨团。\\n两边都是超限战，两边...\n",
       "1885358    加大倆地警方通報機制宣傳力度刻不容緩\\n 內地與香港警方建立相互通報機制15年以來，取得了累...\n",
       "1885359                              世间的人要对法律负责任。修行的人要对因果负责任\n",
       "1888250    对恶棍总的清算即将到来，让迟到的正义散发出光芒，照亮在铁幕下遮蔽双眼的同胞。我们有独立思考的...\n",
       "1888251    郭文贵是一个性格扭曲的人，生活在扭曲当中，是一个心理扭曲的好演员；他没有老朋友，只有新朋友；...\n",
       "1889119    多行不义必自毙，我们坚信，不管郭文贵申请政治庇护会不会被美国政府批准，将来他一定会站在被告席...\n",
       "1890163    郭文贵与多名高官巨贾结成盟友，包括原国家安全部副部长马建，原河北省委常委、政法委书记张越等，...\n",
       "1890164          视频：北大法学家讲授什么是法律人的本分！https://t.co/odSfY12cy1\n",
       "1890202    由于受过的教育，想骂人总感到心不安。我的朋友韦石，李伟东，夏亦良，胡平，陈破空，王军涛，腾彪...\n",
       "1891362    质疑通报机制的有效性纯属无稽之谈\\n铜锣湾书店事件发生后，“泛民”议员不断怀疑存在跨境执法，...\n",
       "1891363    这两天和不同友人谈支持反对郭文贵，我提到，有几个支持郭的人是君子，我不介意他们采取的态度。例...\n",
       "1892781    不一般的聚餐\\n“推墙”力量相互策应，目的在于制造混乱、创造机会\\n法庭调查表明，2015年...\n",
       "1894685    从郭的话语我直接怀疑他还有多少料都难说，一旦料爆完看热闹的傻子一哄而散，郭的所作所为应证了他...\n",
       "1894686                                          外离相为禅，内不乱为定\n",
       "1899007    「通報機制」正打港人嘅臉\\n近日，香港警方通過粵港兩地警方通報機制，向廣東警方提出協助追尋並...\n",
       "1901268    內地警方這些年共向香港移交了約170名嫌犯，而香港方面向內地移交的嫌犯則是0名。\\n如果香港...\n",
       "1901269                       活在过去很容易得神经病，活在未来容易麻痹自己，活在当下就最好\n",
       "1901335    快速看了几个郭阵营的视频，深有感慨，最无道德的人，可以高谈阔论骗人。这是时代的怪现象。但愿日...\n",
       "1902179    郭文贵对待所有事物都没有耐心，只会在Twitter上乱放炮，惹麻烦！郭文贵总是考虑自己利益最...\n",
       "1903927    早晨听完郭文贵否认自己是国安特务的视频，一半骂人，而且还对滕彪未成年女儿出脏口。我刚给朋友说...\n",
       "1903928    我认为我们的感觉是对西方媒体报道中普遍存在的、丑陋的、恶毒的评论的一种自然而然的反应。我们经...\n",
       "1903929                    考拉的生活，终将美好https://t.co/Olg7eHy6zG\n",
       "Name: tweet_text, Length: 1990, dtype: object"
      ]
     },
     "execution_count": 51,
     "metadata": {},
     "output_type": "execute_result"
    }
   ],
   "source": [
    "tweet[tweet['userid'] == 'EUd69lDLkGP47adDGEABXUNoNCMl3MUunT3RW6lRiJc=']['tweet_text']"
   ]
  },
  {
   "cell_type": "code",
   "execution_count": 56,
   "metadata": {},
   "outputs": [],
   "source": [
    "hk_list = [t for t in hk.tweet_text.tolist()]"
   ]
  },
  {
   "cell_type": "code",
   "execution_count": 57,
   "metadata": {},
   "outputs": [
    {
     "data": {
      "text/plain": [
       "['不听老人言，吃亏在眼前，香港年轻人该到了冷静的时候了。',\n",
       " '绝不能让暴力、歪曲文化污染香港下一代，那样受害的只会是香港自己。',\n",
       " '反对暴力冲击，守护平安香港！',\n",
       " '触目惊心啊！这是要准备毁灭香港的节奏啊！幸亏警方破案及时。',\n",
       " '不能再让香港继续乱下去了，必须力撑港警！']"
      ]
     },
     "execution_count": 57,
     "metadata": {},
     "output_type": "execute_result"
    }
   ],
   "source": [
    "hk_list[:5]"
   ]
  },
  {
   "cell_type": "code",
   "execution_count": 58,
   "metadata": {},
   "outputs": [
    {
     "ename": "AttributeError",
     "evalue": "'str' object has no attribute 'similiar'",
     "output_type": "error",
     "traceback": [
      "\u001b[1;31m---------------------------------------------------------------------------\u001b[0m",
      "\u001b[1;31mAttributeError\u001b[0m                            Traceback (most recent call last)",
      "\u001b[1;32m<ipython-input-58-2a6dff3ce52b>\u001b[0m in \u001b[0;36m<module>\u001b[1;34m\u001b[0m\n\u001b[0;32m      1\u001b[0m \u001b[1;32mfor\u001b[0m \u001b[0ms\u001b[0m \u001b[1;32min\u001b[0m \u001b[0mhk_list\u001b[0m\u001b[1;33m:\u001b[0m\u001b[1;33m\u001b[0m\u001b[1;33m\u001b[0m\u001b[0m\n\u001b[1;32m----> 2\u001b[1;33m     \u001b[0ms\u001b[0m\u001b[1;33m.\u001b[0m\u001b[0msimiliar\u001b[0m\u001b[1;33m(\u001b[0m\u001b[1;34m\"香港\"\u001b[0m\u001b[1;33m)\u001b[0m\u001b[1;33m\u001b[0m\u001b[1;33m\u001b[0m\u001b[0m\n\u001b[0m",
      "\u001b[1;31mAttributeError\u001b[0m: 'str' object has no attribute 'similiar'"
     ]
    }
   ],
   "source": [
    "for s in hk_list:\n",
    "    s.similiar(\"香港\")"
   ]
  },
  {
   "cell_type": "markdown",
   "metadata": {},
   "source": [
    "### Twitter defined violations of our platform manipulation policies"
   ]
  },
  {
   "cell_type": "markdown",
   "metadata": {},
   "source": [
    "#### 1.Spam\n",
    "Coordinated activity\n",
    "Fake accounts\n",
    "Attributed activity\n",
    "Ban evasion"
   ]
  },
  {
   "cell_type": "code",
   "execution_count": null,
   "metadata": {},
   "outputs": [],
   "source": []
  }
 ],
 "metadata": {
  "kernelspec": {
   "display_name": "Python 3",
   "language": "python",
   "name": "python3"
  },
  "language_info": {
   "codemirror_mode": {
    "name": "ipython",
    "version": 3
   },
   "file_extension": ".py",
   "mimetype": "text/x-python",
   "name": "python",
   "nbconvert_exporter": "python",
   "pygments_lexer": "ipython3",
   "version": "3.7.1"
  }
 },
 "nbformat": 4,
 "nbformat_minor": 2
}
