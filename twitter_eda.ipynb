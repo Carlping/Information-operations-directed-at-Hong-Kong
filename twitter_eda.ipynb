{
 "cells": [
  {
   "cell_type": "markdown",
   "metadata": {},
   "source": [
    "### Load the required packages"
   ]
  },
  {
   "cell_type": "code",
   "execution_count": 31,
   "metadata": {},
   "outputs": [],
   "source": [
    "import pandas as pd\n",
    "import numpy as np\n",
    "import matplotlib.pyplot as plt\n",
    "%matplotlib inline\n",
    "\n",
    "import seaborn as sns\n",
    "\n",
    "import datetime as dt"
   ]
  },
  {
   "cell_type": "code",
   "execution_count": 13,
   "metadata": {},
   "outputs": [],
   "source": [
    "tweet = pd.read_csv(\"china_082019_1_tweets_csv_hashed.csv\")\n",
    "user = pd.read_csv(\"china_082019_1_users_csv_hashed.csv\")"
   ]
  },
  {
   "cell_type": "markdown",
   "metadata": {},
   "source": [
    "#### Users"
   ]
  },
  {
   "cell_type": "code",
   "execution_count": 15,
   "metadata": {},
   "outputs": [
    {
     "data": {
      "text/html": [
       "<div>\n",
       "<style scoped>\n",
       "    .dataframe tbody tr th:only-of-type {\n",
       "        vertical-align: middle;\n",
       "    }\n",
       "\n",
       "    .dataframe tbody tr th {\n",
       "        vertical-align: top;\n",
       "    }\n",
       "\n",
       "    .dataframe thead th {\n",
       "        text-align: right;\n",
       "    }\n",
       "</style>\n",
       "<table border=\"1\" class=\"dataframe\">\n",
       "  <thead>\n",
       "    <tr style=\"text-align: right;\">\n",
       "      <th></th>\n",
       "      <th>userid</th>\n",
       "      <th>user_display_name</th>\n",
       "      <th>user_screen_name</th>\n",
       "      <th>user_reported_location</th>\n",
       "      <th>user_profile_description</th>\n",
       "      <th>user_profile_url</th>\n",
       "      <th>follower_count</th>\n",
       "      <th>following_count</th>\n",
       "      <th>account_creation_date</th>\n",
       "      <th>account_language</th>\n",
       "    </tr>\n",
       "  </thead>\n",
       "  <tbody>\n",
       "    <tr>\n",
       "      <th>0</th>\n",
       "      <td>vMm2zemFOF7kmXoDyX24Bo+TorqhNutpZlATYyxsE=</td>\n",
       "      <td>vMm2zemFOF7kmXoDyX24Bo+TorqhNutpZlATYyxsE=</td>\n",
       "      <td>vMm2zemFOF7kmXoDyX24Bo+TorqhNutpZlATYyxsE=</td>\n",
       "      <td>NaN</td>\n",
       "      <td>NaN</td>\n",
       "      <td>NaN</td>\n",
       "      <td>1</td>\n",
       "      <td>52</td>\n",
       "      <td>2017-08-30</td>\n",
       "      <td>zh-cn</td>\n",
       "    </tr>\n",
       "    <tr>\n",
       "      <th>1</th>\n",
       "      <td>919755217121316864</td>\n",
       "      <td>ailaiyi5</td>\n",
       "      <td>wuming11xia</td>\n",
       "      <td>NaN</td>\n",
       "      <td>NaN</td>\n",
       "      <td>NaN</td>\n",
       "      <td>0</td>\n",
       "      <td>0</td>\n",
       "      <td>2017-10-16</td>\n",
       "      <td>zh-cn</td>\n",
       "    </tr>\n",
       "    <tr>\n",
       "      <th>2</th>\n",
       "      <td>747292706536226816</td>\n",
       "      <td>牛小牛</td>\n",
       "      <td>gurevadona88</td>\n",
       "      <td>NaN</td>\n",
       "      <td>NaN</td>\n",
       "      <td>NaN</td>\n",
       "      <td>23949</td>\n",
       "      <td>52</td>\n",
       "      <td>2016-06-27</td>\n",
       "      <td>zh-cn</td>\n",
       "    </tr>\n",
       "    <tr>\n",
       "      <th>3</th>\n",
       "      <td>q2SMGvHasu+nugbpNMDCjr2qlZp3FCiGYDLht+gW5pw=</td>\n",
       "      <td>q2SMGvHasu+nugbpNMDCjr2qlZp3FCiGYDLht+gW5pw=</td>\n",
       "      <td>q2SMGvHasu+nugbpNMDCjr2qlZp3FCiGYDLht+gW5pw=</td>\n",
       "      <td>NaN</td>\n",
       "      <td>NaN</td>\n",
       "      <td>NaN</td>\n",
       "      <td>17</td>\n",
       "      <td>34</td>\n",
       "      <td>2016-08-08</td>\n",
       "      <td>es</td>\n",
       "    </tr>\n",
       "    <tr>\n",
       "      <th>4</th>\n",
       "      <td>907348345563303940</td>\n",
       "      <td>lishuishi</td>\n",
       "      <td>lishuishi</td>\n",
       "      <td>NaN</td>\n",
       "      <td>NaN</td>\n",
       "      <td>NaN</td>\n",
       "      <td>0</td>\n",
       "      <td>0</td>\n",
       "      <td>2017-09-11</td>\n",
       "      <td>zh-tw</td>\n",
       "    </tr>\n",
       "  </tbody>\n",
       "</table>\n",
       "</div>"
      ],
      "text/plain": [
       "                                         userid  \\\n",
       "0    vMm2zemFOF7kmXoDyX24Bo+TorqhNutpZlATYyxsE=   \n",
       "1                            919755217121316864   \n",
       "2                            747292706536226816   \n",
       "3  q2SMGvHasu+nugbpNMDCjr2qlZp3FCiGYDLht+gW5pw=   \n",
       "4                            907348345563303940   \n",
       "\n",
       "                              user_display_name  \\\n",
       "0    vMm2zemFOF7kmXoDyX24Bo+TorqhNutpZlATYyxsE=   \n",
       "1                                      ailaiyi5   \n",
       "2                                           牛小牛   \n",
       "3  q2SMGvHasu+nugbpNMDCjr2qlZp3FCiGYDLht+gW5pw=   \n",
       "4                                     lishuishi   \n",
       "\n",
       "                               user_screen_name user_reported_location  \\\n",
       "0    vMm2zemFOF7kmXoDyX24Bo+TorqhNutpZlATYyxsE=                    NaN   \n",
       "1                                   wuming11xia                    NaN   \n",
       "2                                  gurevadona88                    NaN   \n",
       "3  q2SMGvHasu+nugbpNMDCjr2qlZp3FCiGYDLht+gW5pw=                    NaN   \n",
       "4                                     lishuishi                    NaN   \n",
       "\n",
       "  user_profile_description user_profile_url  follower_count  following_count  \\\n",
       "0                      NaN              NaN               1               52   \n",
       "1                      NaN              NaN               0                0   \n",
       "2                      NaN              NaN           23949               52   \n",
       "3                      NaN              NaN              17               34   \n",
       "4                      NaN              NaN               0                0   \n",
       "\n",
       "  account_creation_date account_language  \n",
       "0            2017-08-30            zh-cn  \n",
       "1            2017-10-16            zh-cn  \n",
       "2            2016-06-27            zh-cn  \n",
       "3            2016-08-08               es  \n",
       "4            2017-09-11            zh-tw  "
      ]
     },
     "execution_count": 15,
     "metadata": {},
     "output_type": "execute_result"
    }
   ],
   "source": [
    "user.head()"
   ]
  },
  {
   "cell_type": "code",
   "execution_count": 18,
   "metadata": {},
   "outputs": [
    {
     "name": "stdout",
     "output_type": "stream",
     "text": [
      "(1906831, 31)\n",
      "(744, 10)\n"
     ]
    }
   ],
   "source": [
    "print(tweet.shape)\n",
    "print(user.shape)"
   ]
  },
  {
   "cell_type": "code",
   "execution_count": 20,
   "metadata": {},
   "outputs": [
    {
     "data": {
      "text/plain": [
       "userid                      object\n",
       "user_display_name           object\n",
       "user_screen_name            object\n",
       "user_reported_location      object\n",
       "user_profile_description    object\n",
       "user_profile_url            object\n",
       "follower_count               int64\n",
       "following_count              int64\n",
       "account_creation_date       object\n",
       "account_language            object\n",
       "dtype: object"
      ]
     },
     "execution_count": 20,
     "metadata": {},
     "output_type": "execute_result"
    }
   ],
   "source": [
    "user.dtypes"
   ]
  },
  {
   "cell_type": "code",
   "execution_count": 46,
   "metadata": {},
   "outputs": [
    {
     "data": {
      "text/plain": [
       "289"
      ]
     },
     "execution_count": 46,
     "metadata": {},
     "output_type": "execute_result"
    }
   ],
   "source": [
    "user['account_creation_date'].nunique()\n",
    "#user['create_m'] = pd.to_datetime(user['account_creation_date']).dt.month"
   ]
  },
  {
   "cell_type": "code",
   "execution_count": 49,
   "metadata": {},
   "outputs": [
    {
     "data": {
      "text/plain": [
       "<matplotlib.axes._subplots.AxesSubplot at 0x218283eac18>"
      ]
     },
     "execution_count": 49,
     "metadata": {},
     "output_type": "execute_result"
    },
    {
     "data": {
      "image/png": "[encoded data removed]",
      "text/plain": [
       "<Figure size 432x288 with 1 Axes>"
      ]
     },
     "metadata": {
      "needs_background": "light"
     },
     "output_type": "display_data"
    }
   ],
   "source": [
    "fig = plt.figure()\n",
    "((pd.value_counts(user['account_creation_date'])[:10])/744*100).plot.bar()"
   ]
  },
  {
   "cell_type": "code",
   "execution_count": 64,
   "metadata": {},
   "outputs": [
    {
     "data": {
      "text/plain": [
       "<matplotlib.axes._subplots.AxesSubplot at 0x21836ab14a8>"
      ]
     },
     "execution_count": 64,
     "metadata": {},
     "output_type": "execute_result"
    },
    {
     "data": {
      "image/png": "[encoded data removed]",
      "text/plain": [
       "<Figure size 432x288 with 1 Axes>"
      ]
     },
     "metadata": {
      "needs_background": "light"
     },
     "output_type": "display_data"
    }
   ],
   "source": [
    "no_location = user[user['user_reported_location'].isnull()].copy()\n",
    "fig = plt.figure()\n",
    "((pd.value_counts(no_location['account_creation_date'])[:10])/562*100).plot.bar()"
   ]
  },
  {
   "cell_type": "code",
   "execution_count": 50,
   "metadata": {},
   "outputs": [
    {
     "data": {
      "text/plain": [
       "zh-cn    569\n",
       "en       104\n",
       "ru        36\n",
       "zh-CN     13\n",
       "zh-tw     10\n",
       "es         8\n",
       "en-gb      3\n",
       "ja         1\n",
       "Name: account_language, dtype: int64"
      ]
     },
     "execution_count": 50,
     "metadata": {},
     "output_type": "execute_result"
    }
   ],
   "source": [
    "user['account_language'].value_counts()"
   ]
  },
  {
   "cell_type": "code",
   "execution_count": 90,
   "metadata": {},
   "outputs": [
    {
     "data": {
      "text/html": [
       "<div>\n",
       "<style scoped>\n",
       "    .dataframe tbody tr th:only-of-type {\n",
       "        vertical-align: middle;\n",
       "    }\n",
       "\n",
       "    .dataframe tbody tr th {\n",
       "        vertical-align: top;\n",
       "    }\n",
       "\n",
       "    .dataframe thead th {\n",
       "        text-align: right;\n",
       "    }\n",
       "</style>\n",
       "<table border=\"1\" class=\"dataframe\">\n",
       "  <thead>\n",
       "    <tr style=\"text-align: right;\">\n",
       "      <th></th>\n",
       "      <th>userid</th>\n",
       "      <th>user_display_name</th>\n",
       "      <th>user_screen_name</th>\n",
       "      <th>user_reported_location</th>\n",
       "      <th>user_profile_description</th>\n",
       "      <th>user_profile_url</th>\n",
       "      <th>follower_count</th>\n",
       "      <th>following_count</th>\n",
       "      <th>account_creation_date</th>\n",
       "      <th>account_language</th>\n",
       "      <th>create_m</th>\n",
       "    </tr>\n",
       "  </thead>\n",
       "  <tbody>\n",
       "  </tbody>\n",
       "</table>\n",
       "</div>"
      ],
      "text/plain": [
       "Empty DataFrame\n",
       "Columns: [userid, user_display_name, user_screen_name, user_reported_location, user_profile_description, user_profile_url, follower_count, following_count, account_creation_date, account_language, create_m]\n",
       "Index: []"
      ]
     },
     "execution_count": 90,
     "metadata": {},
     "output_type": "execute_result"
    }
   ],
   "source": [
    "user[(user['following_count'] >= 2001) & (user['follower_count'] <2000)]"
   ]
  },
  {
   "cell_type": "code",
   "execution_count": 93,
   "metadata": {},
   "outputs": [
    {
     "data": {
      "text/plain": [
       "<matplotlib.axes._subplots.AxesSubplot at 0x2182a357ef0>"
      ]
     },
     "execution_count": 93,
     "metadata": {},
     "output_type": "execute_result"
    },
    {
     "data": {
      "image/png": "[encoded data removed]",
      "text/plain": [
       "<Figure size 432x288 with 1 Axes>"
      ]
     },
     "metadata": {
      "needs_background": "light"
     },
     "output_type": "display_data"
    }
   ],
   "source": [
    "no_follow = user[(user['following_count'] == 0) & (user['follower_count'] == 0)].copy()\n",
    "fig = plt.figure()\n",
    "((pd.value_counts(no_follow['account_creation_date'])[:10])/107*100).plot.bar()"
   ]
  },
  {
   "cell_type": "code",
   "execution_count": 88,
   "metadata": {},
   "outputs": [
    {
     "data": {
      "text/plain": [
       "744"
      ]
     },
     "execution_count": 88,
     "metadata": {},
     "output_type": "execute_result"
    }
   ],
   "source": [
    "user['userid'].nunique()"
   ]
  },
  {
   "cell_type": "markdown",
   "metadata": {},
   "source": [
    "### Summary of user part:\n",
    "\n",
    "1. There are 744 unique users in the set1.\n",
    "2. 592 (79.6%) use zh-CN. ( a simplified chinese from China)\n",
    "3. There is no fake account from only following count and follwer count perspectives. Twitter has its limitiion on how many accounts you can follow, and the number is 2000. Robot-like accounts should look like following more than 2000 acounts but have very few followers. However, i don't find it here.\n",
    "4. Almost 31% accounts are created on 2017/8/18 and 2017/8/30. Should follow what happen during 2017 summer.\n",
    "5. For those who have no follower and not following any, 7/10 of the top 10 account create date are in 2017 winter."
   ]
  },
  {
   "cell_type": "markdown",
   "metadata": {},
   "source": [
    "#### Tweets~"
   ]
  },
  {
   "cell_type": "code",
   "execution_count": 82,
   "metadata": {},
   "outputs": [
    {
     "data": {
      "text/plain": [
       "Index(['tweetid', 'userid', 'user_display_name', 'user_screen_name',\n",
       "       'user_reported_location', 'user_profile_description',\n",
       "       'user_profile_url', 'follower_count', 'following_count',\n",
       "       'account_creation_date', 'account_language', 'tweet_language',\n",
       "       'tweet_text', 'tweet_time', 'tweet_client_name', 'in_reply_to_userid',\n",
       "       'in_reply_to_tweetid', 'quoted_tweet_tweetid', 'is_retweet',\n",
       "       'retweet_userid', 'retweet_tweetid', 'latitude', 'longitude',\n",
       "       'quote_count', 'reply_count', 'like_count', 'retweet_count', 'hashtags',\n",
       "       'urls', 'user_mentions', 'poll_choices'],\n",
       "      dtype='object')"
      ]
     },
     "execution_count": 82,
     "metadata": {},
     "output_type": "execute_result"
    }
   ],
   "source": [
    "tweet.columns"
   ]
  },
  {
   "cell_type": "code",
   "execution_count": 14,
   "metadata": {},
   "outputs": [
    {
     "data": {
      "text/html": [
       "<div>\n",
       "<style scoped>\n",
       "    .dataframe tbody tr th:only-of-type {\n",
       "        vertical-align: middle;\n",
       "    }\n",
       "\n",
       "    .dataframe tbody tr th {\n",
       "        vertical-align: top;\n",
       "    }\n",
       "\n",
       "    .dataframe thead th {\n",
       "        text-align: right;\n",
       "    }\n",
       "</style>\n",
       "<table border=\"1\" class=\"dataframe\">\n",
       "  <thead>\n",
       "    <tr style=\"text-align: right;\">\n",
       "      <th></th>\n",
       "      <th>tweetid</th>\n",
       "      <th>userid</th>\n",
       "      <th>user_display_name</th>\n",
       "      <th>user_screen_name</th>\n",
       "      <th>user_reported_location</th>\n",
       "      <th>user_profile_description</th>\n",
       "      <th>user_profile_url</th>\n",
       "      <th>follower_count</th>\n",
       "      <th>following_count</th>\n",
       "      <th>account_creation_date</th>\n",
       "      <th>...</th>\n",
       "      <th>latitude</th>\n",
       "      <th>longitude</th>\n",
       "      <th>quote_count</th>\n",
       "      <th>reply_count</th>\n",
       "      <th>like_count</th>\n",
       "      <th>retweet_count</th>\n",
       "      <th>hashtags</th>\n",
       "      <th>urls</th>\n",
       "      <th>user_mentions</th>\n",
       "      <th>poll_choices</th>\n",
       "    </tr>\n",
       "  </thead>\n",
       "  <tbody>\n",
       "    <tr>\n",
       "      <th>0</th>\n",
       "      <td>436306424587890688</td>\n",
       "      <td>206027550</td>\n",
       "      <td>The Flecha</td>\n",
       "      <td>nessniven</td>\n",
       "      <td>Republic of Korea</td>\n",
       "      <td>When you see Jair Bolsonaro and his program of...</td>\n",
       "      <td>NaN</td>\n",
       "      <td>100847</td>\n",
       "      <td>31752</td>\n",
       "      <td>2010-10-22</td>\n",
       "      <td>...</td>\n",
       "      <td>absent</td>\n",
       "      <td>absent</td>\n",
       "      <td>0.0</td>\n",
       "      <td>0.0</td>\n",
       "      <td>1.0</td>\n",
       "      <td>0.0</td>\n",
       "      <td>NaN</td>\n",
       "      <td>NaN</td>\n",
       "      <td>[443196382]</td>\n",
       "      <td>NaN</td>\n",
       "    </tr>\n",
       "    <tr>\n",
       "      <th>1</th>\n",
       "      <td>582682975969624064</td>\n",
       "      <td>206027550</td>\n",
       "      <td>The Flecha</td>\n",
       "      <td>nessniven</td>\n",
       "      <td>Republic of Korea</td>\n",
       "      <td>When you see Jair Bolsonaro and his program of...</td>\n",
       "      <td>NaN</td>\n",
       "      <td>100847</td>\n",
       "      <td>31752</td>\n",
       "      <td>2010-10-22</td>\n",
       "      <td>...</td>\n",
       "      <td>absent</td>\n",
       "      <td>absent</td>\n",
       "      <td>0.0</td>\n",
       "      <td>0.0</td>\n",
       "      <td>0.0</td>\n",
       "      <td>52.0</td>\n",
       "      <td>[]</td>\n",
       "      <td>['http://goo.gl/32K38q']</td>\n",
       "      <td>[]</td>\n",
       "      <td>NaN</td>\n",
       "    </tr>\n",
       "    <tr>\n",
       "      <th>2</th>\n",
       "      <td>582997936541278208</td>\n",
       "      <td>206027550</td>\n",
       "      <td>The Flecha</td>\n",
       "      <td>nessniven</td>\n",
       "      <td>Republic of Korea</td>\n",
       "      <td>When you see Jair Bolsonaro and his program of...</td>\n",
       "      <td>NaN</td>\n",
       "      <td>100847</td>\n",
       "      <td>31752</td>\n",
       "      <td>2010-10-22</td>\n",
       "      <td>...</td>\n",
       "      <td>absent</td>\n",
       "      <td>absent</td>\n",
       "      <td>0.0</td>\n",
       "      <td>0.0</td>\n",
       "      <td>0.0</td>\n",
       "      <td>0.0</td>\n",
       "      <td>[]</td>\n",
       "      <td>[]</td>\n",
       "      <td>[116351908]</td>\n",
       "      <td>NaN</td>\n",
       "    </tr>\n",
       "    <tr>\n",
       "      <th>3</th>\n",
       "      <td>580404049901670400</td>\n",
       "      <td>206027550</td>\n",
       "      <td>The Flecha</td>\n",
       "      <td>nessniven</td>\n",
       "      <td>Republic of Korea</td>\n",
       "      <td>When you see Jair Bolsonaro and his program of...</td>\n",
       "      <td>NaN</td>\n",
       "      <td>100847</td>\n",
       "      <td>31752</td>\n",
       "      <td>2010-10-22</td>\n",
       "      <td>...</td>\n",
       "      <td>absent</td>\n",
       "      <td>absent</td>\n",
       "      <td>0.0</td>\n",
       "      <td>0.0</td>\n",
       "      <td>0.0</td>\n",
       "      <td>0.0</td>\n",
       "      <td>[]</td>\n",
       "      <td>['http://goo.gl/iC1GM9']</td>\n",
       "      <td>[]</td>\n",
       "      <td>NaN</td>\n",
       "    </tr>\n",
       "    <tr>\n",
       "      <th>4</th>\n",
       "      <td>199007241142149121</td>\n",
       "      <td>206027550</td>\n",
       "      <td>The Flecha</td>\n",
       "      <td>nessniven</td>\n",
       "      <td>Republic of Korea</td>\n",
       "      <td>When you see Jair Bolsonaro and his program of...</td>\n",
       "      <td>NaN</td>\n",
       "      <td>100847</td>\n",
       "      <td>31752</td>\n",
       "      <td>2010-10-22</td>\n",
       "      <td>...</td>\n",
       "      <td>absent</td>\n",
       "      <td>absent</td>\n",
       "      <td>0.0</td>\n",
       "      <td>0.0</td>\n",
       "      <td>0.0</td>\n",
       "      <td>0.0</td>\n",
       "      <td>NaN</td>\n",
       "      <td>['http://migre.me/8Ycqm']</td>\n",
       "      <td>NaN</td>\n",
       "      <td>NaN</td>\n",
       "    </tr>\n",
       "  </tbody>\n",
       "</table>\n",
       "<p>5 rows × 31 columns</p>\n",
       "</div>"
      ],
      "text/plain": [
       "              tweetid     userid user_display_name user_screen_name  \\\n",
       "0  436306424587890688  206027550        The Flecha        nessniven   \n",
       "1  582682975969624064  206027550        The Flecha        nessniven   \n",
       "2  582997936541278208  206027550        The Flecha        nessniven   \n",
       "3  580404049901670400  206027550        The Flecha        nessniven   \n",
       "4  199007241142149121  206027550        The Flecha        nessniven   \n",
       "\n",
       "  user_reported_location                           user_profile_description  \\\n",
       "0      Republic of Korea  When you see Jair Bolsonaro and his program of...   \n",
       "1      Republic of Korea  When you see Jair Bolsonaro and his program of...   \n",
       "2      Republic of Korea  When you see Jair Bolsonaro and his program of...   \n",
       "3      Republic of Korea  When you see Jair Bolsonaro and his program of...   \n",
       "4      Republic of Korea  When you see Jair Bolsonaro and his program of...   \n",
       "\n",
       "  user_profile_url  follower_count  following_count account_creation_date  \\\n",
       "0              NaN          100847            31752            2010-10-22   \n",
       "1              NaN          100847            31752            2010-10-22   \n",
       "2              NaN          100847            31752            2010-10-22   \n",
       "3              NaN          100847            31752            2010-10-22   \n",
       "4              NaN          100847            31752            2010-10-22   \n",
       "\n",
       "      ...      latitude longitude quote_count reply_count like_count  \\\n",
       "0     ...        absent    absent         0.0         0.0        1.0   \n",
       "1     ...        absent    absent         0.0         0.0        0.0   \n",
       "2     ...        absent    absent         0.0         0.0        0.0   \n",
       "3     ...        absent    absent         0.0         0.0        0.0   \n",
       "4     ...        absent    absent         0.0         0.0        0.0   \n",
       "\n",
       "  retweet_count  hashtags                       urls  user_mentions  \\\n",
       "0           0.0       NaN                        NaN    [443196382]   \n",
       "1          52.0        []   ['http://goo.gl/32K38q']             []   \n",
       "2           0.0        []                         []    [116351908]   \n",
       "3           0.0        []   ['http://goo.gl/iC1GM9']             []   \n",
       "4           0.0       NaN  ['http://migre.me/8Ycqm']            NaN   \n",
       "\n",
       "  poll_choices  \n",
       "0          NaN  \n",
       "1          NaN  \n",
       "2          NaN  \n",
       "3          NaN  \n",
       "4          NaN  \n",
       "\n",
       "[5 rows x 31 columns]"
      ]
     },
     "execution_count": 14,
     "metadata": {},
     "output_type": "execute_result"
    }
   ],
   "source": [
    "tweet.head()"
   ]
  },
  {
   "cell_type": "code",
   "execution_count": 19,
   "metadata": {},
   "outputs": [
    {
     "data": {
      "text/html": [
       "<div>\n",
       "<style scoped>\n",
       "    .dataframe tbody tr th:only-of-type {\n",
       "        vertical-align: middle;\n",
       "    }\n",
       "\n",
       "    .dataframe tbody tr th {\n",
       "        vertical-align: top;\n",
       "    }\n",
       "\n",
       "    .dataframe thead th {\n",
       "        text-align: right;\n",
       "    }\n",
       "</style>\n",
       "<table border=\"1\" class=\"dataframe\">\n",
       "  <thead>\n",
       "    <tr style=\"text-align: right;\">\n",
       "      <th></th>\n",
       "      <th>tweetid</th>\n",
       "      <th>follower_count</th>\n",
       "      <th>following_count</th>\n",
       "      <th>in_reply_to_tweetid</th>\n",
       "      <th>quoted_tweet_tweetid</th>\n",
       "      <th>retweet_tweetid</th>\n",
       "      <th>quote_count</th>\n",
       "      <th>reply_count</th>\n",
       "      <th>like_count</th>\n",
       "      <th>retweet_count</th>\n",
       "    </tr>\n",
       "  </thead>\n",
       "  <tbody>\n",
       "    <tr>\n",
       "      <th>count</th>\n",
       "      <td>1.906831e+06</td>\n",
       "      <td>1.906831e+06</td>\n",
       "      <td>1.906831e+06</td>\n",
       "      <td>1.785020e+05</td>\n",
       "      <td>9.513300e+04</td>\n",
       "      <td>3.579360e+05</td>\n",
       "      <td>1.888906e+06</td>\n",
       "      <td>1.888906e+06</td>\n",
       "      <td>1.888906e+06</td>\n",
       "      <td>1.888906e+06</td>\n",
       "    </tr>\n",
       "    <tr>\n",
       "      <th>mean</th>\n",
       "      <td>7.206899e+17</td>\n",
       "      <td>2.444543e+04</td>\n",
       "      <td>1.350040e+04</td>\n",
       "      <td>5.869991e+17</td>\n",
       "      <td>8.621642e+17</td>\n",
       "      <td>6.013256e+17</td>\n",
       "      <td>7.288346e-03</td>\n",
       "      <td>8.859573e-02</td>\n",
       "      <td>4.557506e-02</td>\n",
       "      <td>1.496379e-01</td>\n",
       "    </tr>\n",
       "    <tr>\n",
       "      <th>std</th>\n",
       "      <td>2.729179e+17</td>\n",
       "      <td>2.948863e+04</td>\n",
       "      <td>9.531729e+03</td>\n",
       "      <td>3.471806e+17</td>\n",
       "      <td>8.568681e+16</td>\n",
       "      <td>2.745685e+17</td>\n",
       "      <td>4.159671e-01</td>\n",
       "      <td>9.644296e-01</td>\n",
       "      <td>1.644062e+00</td>\n",
       "      <td>3.454932e+00</td>\n",
       "    </tr>\n",
       "    <tr>\n",
       "      <th>min</th>\n",
       "      <td>8.126727e+08</td>\n",
       "      <td>0.000000e+00</td>\n",
       "      <td>0.000000e+00</td>\n",
       "      <td>8.237374e+08</td>\n",
       "      <td>1.847925e+15</td>\n",
       "      <td>1.792600e+04</td>\n",
       "      <td>0.000000e+00</td>\n",
       "      <td>0.000000e+00</td>\n",
       "      <td>0.000000e+00</td>\n",
       "      <td>0.000000e+00</td>\n",
       "    </tr>\n",
       "    <tr>\n",
       "      <th>25%</th>\n",
       "      <td>5.789587e+17</td>\n",
       "      <td>1.089500e+04</td>\n",
       "      <td>9.050000e+03</td>\n",
       "      <td>2.715412e+17</td>\n",
       "      <td>8.376187e+17</td>\n",
       "      <td>4.314172e+17</td>\n",
       "      <td>0.000000e+00</td>\n",
       "      <td>0.000000e+00</td>\n",
       "      <td>0.000000e+00</td>\n",
       "      <td>0.000000e+00</td>\n",
       "    </tr>\n",
       "    <tr>\n",
       "      <th>50%</th>\n",
       "      <td>8.170222e+17</td>\n",
       "      <td>1.355300e+04</td>\n",
       "      <td>1.359200e+04</td>\n",
       "      <td>6.053735e+17</td>\n",
       "      <td>8.417812e+17</td>\n",
       "      <td>5.771102e+17</td>\n",
       "      <td>0.000000e+00</td>\n",
       "      <td>0.000000e+00</td>\n",
       "      <td>0.000000e+00</td>\n",
       "      <td>0.000000e+00</td>\n",
       "    </tr>\n",
       "    <tr>\n",
       "      <th>75%</th>\n",
       "      <td>8.716381e+17</td>\n",
       "      <td>1.890000e+04</td>\n",
       "      <td>1.460600e+04</td>\n",
       "      <td>9.028863e+17</td>\n",
       "      <td>8.525281e+17</td>\n",
       "      <td>8.528084e+17</td>\n",
       "      <td>0.000000e+00</td>\n",
       "      <td>0.000000e+00</td>\n",
       "      <td>0.000000e+00</td>\n",
       "      <td>0.000000e+00</td>\n",
       "    </tr>\n",
       "    <tr>\n",
       "      <th>max</th>\n",
       "      <td>1.154216e+18</td>\n",
       "      <td>1.701550e+05</td>\n",
       "      <td>3.175200e+04</td>\n",
       "      <td>1.153504e+18</td>\n",
       "      <td>1.154193e+18</td>\n",
       "      <td>1.154179e+18</td>\n",
       "      <td>1.930000e+02</td>\n",
       "      <td>3.260000e+02</td>\n",
       "      <td>1.159000e+03</td>\n",
       "      <td>3.344000e+03</td>\n",
       "    </tr>\n",
       "  </tbody>\n",
       "</table>\n",
       "</div>"
      ],
      "text/plain": [
       "            tweetid  follower_count  following_count  in_reply_to_tweetid  \\\n",
       "count  1.906831e+06    1.906831e+06     1.906831e+06         1.785020e+05   \n",
       "mean   7.206899e+17    2.444543e+04     1.350040e+04         5.869991e+17   \n",
       "std    2.729179e+17    2.948863e+04     9.531729e+03         3.471806e+17   \n",
       "min    8.126727e+08    0.000000e+00     0.000000e+00         8.237374e+08   \n",
       "25%    5.789587e+17    1.089500e+04     9.050000e+03         2.715412e+17   \n",
       "50%    8.170222e+17    1.355300e+04     1.359200e+04         6.053735e+17   \n",
       "75%    8.716381e+17    1.890000e+04     1.460600e+04         9.028863e+17   \n",
       "max    1.154216e+18    1.701550e+05     3.175200e+04         1.153504e+18   \n",
       "\n",
       "       quoted_tweet_tweetid  retweet_tweetid   quote_count   reply_count  \\\n",
       "count          9.513300e+04     3.579360e+05  1.888906e+06  1.888906e+06   \n",
       "mean           8.621642e+17     6.013256e+17  7.288346e-03  8.859573e-02   \n",
       "std            8.568681e+16     2.745685e+17  4.159671e-01  9.644296e-01   \n",
       "min            1.847925e+15     1.792600e+04  0.000000e+00  0.000000e+00   \n",
       "25%            8.376187e+17     4.314172e+17  0.000000e+00  0.000000e+00   \n",
       "50%            8.417812e+17     5.771102e+17  0.000000e+00  0.000000e+00   \n",
       "75%            8.525281e+17     8.528084e+17  0.000000e+00  0.000000e+00   \n",
       "max            1.154193e+18     1.154179e+18  1.930000e+02  3.260000e+02   \n",
       "\n",
       "         like_count  retweet_count  \n",
       "count  1.888906e+06   1.888906e+06  \n",
       "mean   4.557506e-02   1.496379e-01  \n",
       "std    1.644062e+00   3.454932e+00  \n",
       "min    0.000000e+00   0.000000e+00  \n",
       "25%    0.000000e+00   0.000000e+00  \n",
       "50%    0.000000e+00   0.000000e+00  \n",
       "75%    0.000000e+00   0.000000e+00  \n",
       "max    1.159000e+03   3.344000e+03  "
      ]
     },
     "execution_count": 19,
     "metadata": {},
     "output_type": "execute_result"
    }
   ],
   "source": [
    "tweet.describe()"
   ]
  },
  {
   "cell_type": "code",
   "execution_count": 70,
   "metadata": {},
   "outputs": [
    {
     "data": {
      "text/plain": [
       "userid\n",
       "769790067183190016                              268284\n",
       "206027550                                       220664\n",
       "620912741                                       183862\n",
       "718766229700227072                              177415\n",
       "791015242448850945                              161905\n",
       "761109495187513344                              157467\n",
       "760761981854883840                              118993\n",
       "158077925                                        88709\n",
       "2346026113                                       38472\n",
       "363345298                                        29132\n",
       "825851272515375105                               23494\n",
       "533748701                                        20405\n",
       "455662560                                        16101\n",
       "QVr+qYj7OTUbWgxNe8gbFgqkfnPKR6KZQFkt3pOmA=       14961\n",
       "325103066                                        12337\n",
       "360353820                                        11932\n",
       "908589031944081408                               10445\n",
       "898019248341106688                                9705\n",
       "1913039600                                        7516\n",
       "IFL1E0m0SRX2cdOtuLFV7xKtnBgxagKzNgkuGFvNtvs=      7489\n",
       "iHIh+RILI5VBKy+GW9f9xnlRG+bgHirep8asHfMy1Q=       6674\n",
       "213459414                                         6606\n",
       "W8p+9rcodeTsTUcwjGDN0fflucRtDy5fcQiTi1P+OGU=      6552\n",
       "14797528                                          5838\n",
       "Kmto+XqJ6hcowk0GvAGVEasNxHUW11beLphANrm3uhE=      5538\n",
       "2qbayrORywId+83MjVmEROG+KjmOyTuzpp6g0RkYb8=       5480\n",
       "mxZ1auZT3Uk2tNtsT3jk42gR5BPYOtSRPOQx1kNzo=        5263\n",
       "6fxdBS7M0NZMGtUtKfOWYi4ekC5JErjXGP+gQN4ais=       5110\n",
       "BRu6Hx1IvaU02Hs69Dtt2k1LcW+UqN4L8spJ7iVVbok=      4956\n",
       "rjNejV4I6ASDG9aR8YqvQLHuMQ3Vbpvrzu2k2r57D2o=      4954\n",
       "                                                 ...  \n",
       "m7615eOlc1ipGhMqSQwhp1rQJvpYYYgpQ4zH6rFPbo=          2\n",
       "53322799                                             2\n",
       "gUmfLNlOJlPQoL0dE6kRoCQQ9ZS+wodMV7J2YY67zA=          2\n",
       "1071546669626478593                                  2\n",
       "926722575673233408                                   2\n",
       "1071957205992304640                                  2\n",
       "2527996152                                           2\n",
       "E4sqELDq9uh0jsJxLwMVU5XfZUeLP6ieMcgzesrZJc=          2\n",
       "CO8OwDGGOfUNXAEm38NC02nRSUwnvfZ0Hop3tPDHjeM=         2\n",
       "910296636294877184                                   2\n",
       "960872798                                            2\n",
       "1063122753392439296                                  2\n",
       "912171517076807680                                   1\n",
       "1124368193362059266                                  1\n",
       "yQ2168dsvgRju8fSyjt8cpAJMyL5nYP5FPa91ep34Ik=         1\n",
       "1122030122343657472                                  1\n",
       "1110422431229976576                                  1\n",
       "tYbR8qO5b5SoiMXN10Z4b8OQQKbOHuBoeWr1NMTktRw=         1\n",
       "927107631910662146                                   1\n",
       "1059903755611709440                                  1\n",
       "3289017240                                           1\n",
       "902784986792808448                                   1\n",
       "1090335153715662848                                  1\n",
       "1081231923312295936                                  1\n",
       "pAPZcBOlsHhF2sv5fBWt8Pgxe0ayi0Saz0MtLRf2E=           1\n",
       "1071966574049816577                                  1\n",
       "1125612869033320448                                  1\n",
       "2dH+V4WJwcgOZaiLw2e61uPTGWCCkPqUTaB4i7YoIrY=         1\n",
       "iyBXo29UK3I4fpjuOsZN7FUN0F0neuApKGW+R0kudh4=         1\n",
       "902779271575429120                                   1\n",
       "Name: tweetid, Length: 699, dtype: int64"
      ]
     },
     "execution_count": 70,
     "metadata": {},
     "output_type": "execute_result"
    }
   ],
   "source": [
    "tweet.groupby('userid')['tweetid'].count().sort_values(ascending=False)"
   ]
  },
  {
   "cell_type": "code",
   "execution_count": 108,
   "metadata": {},
   "outputs": [
    {
     "data": {
      "text/plain": [
       "[]                                                                     1182684\n",
       "['ptl']                                                                  81796\n",
       "['pltl']                                                                 48247\n",
       "['tlrp']                                                                 36608\n",
       "['nrp']                                                                  21927\n",
       "['RT']                                                                    7054\n",
       "['WTL']                                                                   6761\n",
       "['wtl']                                                                   6562\n",
       "['rtl']                                                                   6556\n",
       "['PTL']                                                                   6194\n",
       "['RTL']                                                                   5777\n",
       "['rptl']                                                                  5560\n",
       "['openfollow']                                                            5010\n",
       "['TLRP']                                                                  4290\n",
       "['ic']                                                                    3643\n",
       "['senpaiBot']                                                             3371\n",
       "['etl']                                                                   2623\n",
       "['NRP']                                                                   2598\n",
       "['AplikasiMyIndiHome']                                                    2470\n",
       "['AngpaoUntukSobat']                                                      2424\n",
       "['PLTL']                                                                  2223\n",
       "['GamesSeruKartini']                                                      1861\n",
       "['郭文贵']                                                                   1767\n",
       "['bb']                                                                    1651\n",
       "['RPTL']                                                                  1564\n",
       "['HarryMeetShalanna']                                                     1420\n",
       "['mfterror']                                                              1404\n",
       "['BB']                                                                    1384\n",
       "['토토사이트', '토토사이트추천', '사설토토사이트추천', '사설토토추천사이트', '스포츠배팅사이트', '안전놀이터']       1258\n",
       "['rbstl']                                                                 1207\n",
       "Name: hashtags, dtype: int64"
      ]
     },
     "execution_count": 108,
     "metadata": {},
     "output_type": "execute_result"
    }
   ],
   "source": [
    "tweet['hashtags'].value_counts().sort_values(ascending=False)[:30]"
   ]
  },
  {
   "cell_type": "code",
   "execution_count": 114,
   "metadata": {},
   "outputs": [
    {
     "data": {
      "text/plain": [
       "14134      大连庭审宣判后郭文贵表现格外反常？一会儿佩戴一个不知道从哪里来的徽章狐假虎威，一会儿嚷嚷要血...\n",
       "26446      中新网3月4日电 据香港《星岛日报》报道，一项最新刊于《科学》的研究显示，受全球气候变暖影响...\n",
       "70246      #HongKongProtest #香港 #七一 #游行 #民阵 7月1日反对派宣扬暴力冲击...\n",
       "207727     反对势力想尽办法想搞乱香港，想等混乱的时候谋取利益，他们根本就无暇顾及市民的利益，可怜的是还...\n",
       "335059     中新网3月7日电 据香港《星岛日报》报道，西班牙一家动物园内一只被称为“世界上最悲伤的大象”...\n",
       "423884     RT stillovelyyy: [✨香港✨] Baeby329 2017 Cheering...\n",
       "465612                                        严惩不法份子，还香港一个安定\n",
       "468855     独家：九鼎集团求售香港保险业务 价值至多25亿美元--消息人士 https://t.co/Y...\n",
       "476221     香港立法會九龍西地方選區補選（25日）上午7時30分拉開帷幕。5號候選人陳凱欣以民生優先的理...\n",
       "476290     https://t.co/v4uRmSbyQl【50年有例外！】【法律依据在此：终止一国两制...\n",
       "490981     在被冻结香港银行账户后，郭文贵近日决定上诉香港法院，希望借此解冻账户。这起诉讼暴露了郭文贵正...\n",
       "499540                                香港最长隧道即将通车 打通粤港东部交通大动脉\n",
       "509992     我成长背景特简单，父母是普通的小市民，做一点小生意，父亲比较严谨，从来不开玩笑的。父亲是厦门...\n",
       "516950     #郭文贵 移民和买房的承诺尚未兑现，宋军便已失去人身自由。宋军称，郭文贵还曾提出要在香港租赁...\n",
       "525995     中国内地和香港两地上市A+H股股价对比表--9月10日 https://t.co/vBpIC...\n",
       "531086     @medvedeva8072 @mariiak83417656 @q8Gqoi8XV8Ymy...\n",
       "533565     香港特首称稍后将与美国商会讨论 转达对国会报告针对香港的关注 https://t.co/Wq...\n",
       "537734     報名參加香港立法會九龍西補選的劉小麗（「小麗老千」）今晚（12日）接獲選舉主任「提名無效」通...\n",
       "539046     香港特區政府提出的修訂《逃犯條例》草案，日前已提交立法會法案委員會審議。保安局局長李家超發表...\n",
       "539114      https://t.co/2y7Jv8vE0I香港两团体在美国驻港澳总领馆前抗议美国干涉香港事务\n",
       "539115     西方反华势力一直在此次香港暴力示威活动中充当着策划，实施，指挥的重要角色，香港市民一定要联合...\n",
       "545998     郭文贵伪造多重身份，掩盖自己真实的身份信息。郭文贵（英文名：Miles Kwok），男，19...\n",
       "546061     而在寧波市被監視居留期間，按其要求，日日有水果，天天可看書，並有專人理髮服務。更有甚者，這個...\n",
       "546071     被郭文贵构陷入狱6年的前合作伙伴曲龙，在北京召开媒体见面会，路透社、华尔街日报、环球时报、南...\n",
       "549288     毛孟静口口声声说为了香港，但是现在却让自己儿子带领人去打砸立法会，这跟土匪有何区别？香港的年...\n",
       "549923     中国内地和香港两地上市A+H股股价对比表--9月20日 https://t.co/OTa9D...\n",
       "552258     https://t.co/OuvBUOtZ2f香港大學學生會告全港市民書充滿暴力、違反司法常...\n",
       "552382                        应尽快恢复社会平静，让香港继续成为有利营商、安居乐业的城市。\n",
       "552928     尋日香港暴徒沖擊立法會，大量嘅不法分子摣住凳揜玻璃窗，呢種舉動同行為簡直畀人發指，希望港政府...\n",
       "553134     郭文贵最为亲密的助理王雁平，一度因与T&amp;M公司（郭文贵在香港的公司）高管的“不正当关...\n",
       "                                 ...                        \n",
       "1906091    RT @12fnXNOpp1j+gNAYnwAyskF+6MogejqmkKzg74ovVw...\n",
       "1906092    RT @12fnXNOpp1j+gNAYnwAyskF+6MogejqmkKzg74ovVw...\n",
       "1906093    RT @12fnXNOpp1j+gNAYnwAyskF+6MogejqmkKzg74ovVw...\n",
       "1906095    RT @12fnXNOpp1j+gNAYnwAyskF+6MogejqmkKzg74ovVw...\n",
       "1906098    RT @12fnXNOpp1j+gNAYnwAyskF+6MogejqmkKzg74ovVw...\n",
       "1906099    RT @12fnXNOpp1j+gNAYnwAyskF+6MogejqmkKzg74ovVw...\n",
       "1906100    RT @12fnXNOpp1j+gNAYnwAyskF+6MogejqmkKzg74ovVw...\n",
       "1906102    RT @12fnXNOpp1j+gNAYnwAyskF+6MogejqmkKzg74ovVw...\n",
       "1906103    RT @12fnXNOpp1j+gNAYnwAyskF+6MogejqmkKzg74ovVw...\n",
       "1906104    RT @12fnXNOpp1j+gNAYnwAyskF+6MogejqmkKzg74ovVw...\n",
       "1906106    RT @12fnXNOpp1j+gNAYnwAyskF+6MogejqmkKzg74ovVw...\n",
       "1906108    RT @12fnXNOpp1j+gNAYnwAyskF+6MogejqmkKzg74ovVw...\n",
       "1906246    RT @bbcchinese: 【持续更新：香港立法会会议推迟】 #香港 多个团体发起罢工和...\n",
       "1906255    RT @Tiffany52832078: @12fnXNOpp1j+gNAYnwAyskF+...\n",
       "1906283    RT @gangaotai: 香港占中九子判刑 四人即时入狱8至16月\\n 2019年4月2...\n",
       "1906403    RT @bbcchinese: 因《逃犯条例》引发的争议在香港持续发酵。约2000家中小企包...\n",
       "1906404    RT @bbcchinese: 【 ＃香港 占领催泪弹重现，政府镇压不让步】星期三反《 ＃逃...\n",
       "1906405    RT @bbcchinese: 【中国驻英大使刘晓明：《逃犯条例》修订将会通过】 #香港 《...\n",
       "1906407    RT @bbcchinese: 【持续更新：香港立法会示威现场】由于成千上万的抗议者封锁了 ...\n",
       "1906408    RT @bbcchinese: 【香港逃犯条例修订争议 一张图看完全过程】 #香港 #逃犯条...\n",
       "1906409    RT @bbcchinese: 【七一黑夜：示威者冲进立法会大楼，警方深夜清场】香港警方约在...\n",
       "1906410    RT @bbcchinese: 【香港《 #逃犯条例 》修订：立法会示威现场冲突警方发射催泪...\n",
       "1906446    RT @hk01official: 【政情】立法會於早上約 10 時 45 分時宣布，根據《...\n",
       "1906447    RT @hk01official: 【政情】立法會秘書處今日 (14 日) 傍晚發新聞稿，其...\n",
       "1906490    RT @TongMediaHK: 【中國外交部駐港公署負責人強烈譴責暴力衝擊立法會 嚴正要求...\n",
       "1906551    RT @LinePost_HK: 【新聞】港大深圳醫院公開道歉 承認專業失誤致新生嬰兒死亡\\...\n",
       "1906567    RT @KEV08485517: @12fnXNOpp1j+gNAYnwAyskF+6Mog...\n",
       "1906713    RT @initiumnews: 【香港媽媽們走上街頭：「告訴年輕人，他們不孤單。」】\\n\\...\n",
       "1906730    RT @AspinallMillie: @12fnXNOpp1j+gNAYnwAyskF+6...\n",
       "1906793    RT @ChernovNeen: 香港仲有咁多明辨是非，明智嘅人，希望而家頭腦發熱嘅人可以冷...\n",
       "Name: tweet_text, Length: 2466, dtype: object"
      ]
     },
     "execution_count": 114,
     "metadata": {},
     "output_type": "execute_result"
    }
   ],
   "source": [
    "tweet[tweet['tweet_text'].str.contains('香港')]['tweet_text']"
   ]
  },
  {
   "cell_type": "markdown",
   "metadata": {},
   "source": [
    "### Concat user with tweet data"
   ]
  },
  {
   "cell_type": "code",
   "execution_count": null,
   "metadata": {},
   "outputs": [],
   "source": []
  }
 ],
 "metadata": {
  "kernelspec": {
   "display_name": "Python 3",
   "language": "python",
   "name": "python3"
  },
  "language_info": {
   "codemirror_mode": {
    "name": "ipython",
    "version": 3
   },
   "file_extension": ".py",
   "mimetype": "text/x-python",
   "name": "python",
   "nbconvert_exporter": "python",
   "pygments_lexer": "ipython3",
   "version": "3.7.1"
  }
 },
 "nbformat": 4,
 "nbformat_minor": 2
}
